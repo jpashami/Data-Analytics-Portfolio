{
 "cells": [
  {
   "cell_type": "code",
   "execution_count": 1,
   "id": "523b8097",
   "metadata": {},
   "outputs": [],
   "source": [
    "from json.tool import main\n",
    "from selenium import webdriver\n",
    "from selenium.webdriver.common.keys import Keys\n",
    "from selenium.webdriver.common.by import By\n",
    "from selenium.webdriver.support.ui import WebDriverWait\n",
    "from selenium.webdriver.support import expected_conditions as EC\n",
    "import time\n",
    "import csv\n",
    "from datetime import date\n",
    "# Import writer class from csv module\n",
    "from csv import writer"
   ]
  },
  {
   "cell_type": "code",
   "execution_count": 4,
   "id": "fc8fecfa",
   "metadata": {},
   "outputs": [
    {
     "name": "stderr",
     "output_type": "stream",
     "text": [
      "C:\\Users\\JPASHAMI\\AppData\\Local\\Temp/ipykernel_5884/568549057.py:2: DeprecationWarning: executable_path has been deprecated, please pass in a Service object\n",
      "  driver = webdriver.Chrome(PATH)\n"
     ]
    }
   ],
   "source": [
    "PATH = \"C:\\Program Files (x86)\\chromedriver.exe\"\n",
    "driver = webdriver.Chrome(PATH)\n",
    "url1 = 'https://www.realtor.ca/map#ZoomLevel=8&Center=44.595693%2C-61.953830&LatitudeMax=45.64606&LongitudeMax=-58.65793&LatitudeMin=43.52599&LongitudeMin=-65.24973&view=list&Sort=6-D&PGeoIds=g30_dxgnyskn&GeoName=Halifax%20Regional%20Municipality%2C%20NS&PropertyTypeGroupID=1&PropertySearchTypeId=1&TransactionTypeId=2&Currency=CAD'\n",
    "url2 = 'https://www.realtor.ca/map#LatitudeMax=44.71121&LongitudeMax=-63.54320&LatitudeMin=44.58117&LongitudeMin=-63.72260&view=list&Sort=6-D&PGeoIds=g30_dxgnyskn&GeoName=Halifax%2C%20NS&PropertyTypeGroupID=1&PropertySearchTypeId=1&TransactionTypeId=2&NumberOfDays=27&Currency=CAD'\n",
    "driver.get(url2)"
   ]
  },
  {
   "cell_type": "code",
   "execution_count": 22,
   "id": "163e3dfb",
   "metadata": {},
   "outputs": [
    {
     "name": "stdout",
     "output_type": "stream",
     "text": [
      "[<selenium.webdriver.remote.webelement.WebElement (session=\"6a9b3a87851dbce7da4afd7829a2ecf5\", element=\"b233257d-c6ad-4ac1-8c11-d6d888e342fb\")>]\n"
     ]
    }
   ],
   "source": [
    "links_Num = driver.find_elements(By.ID, 'listViewResultsNumVal')\n",
    "print(links_Num)"
   ]
  },
  {
   "cell_type": "code",
   "execution_count": 14,
   "id": "bdac66f7",
   "metadata": {},
   "outputs": [
    {
     "name": "stdout",
     "output_type": "stream",
     "text": [
      "https://www.realtor.ca/real-estate/24189684/1167-tower-road-halifax-halifax\n",
      "https://www.realtor.ca/real-estate/24189390/411-116-larry-uteck-boulevard-halifax-halifax\n",
      "https://www.realtor.ca/real-estate/24189180/23-glenwood-avenue-dartmouth-dartmouth\n",
      "https://www.realtor.ca/real-estate/24188944/lot-1076-42-grosse-street-lovett-lake-beechville-beechville\n",
      "https://www.realtor.ca/real-estate/24188945/407-85-spinnaker-drive-halifax-halifax\n",
      "https://www.realtor.ca/real-estate/24188639/85-anchor-drive-halifax-halifax\n",
      "https://www.realtor.ca/real-estate/24187723/6931-tupper-grove-halifax-halifax\n",
      "https://www.realtor.ca/real-estate/24187850/10-glenn-drive-wedgewood-wedgewood\n",
      "https://www.realtor.ca/real-estate/24187851/10-cranfield-court-west-bedford-west-bedford\n",
      "https://www.realtor.ca/real-estate/24187583/37-overdale-lane-dartmouth-dartmouth\n",
      "https://www.realtor.ca/real-estate/24187582/14-sunnybrae-avenue-fairview-fairview\n",
      "https://www.realtor.ca/real-estate/24187440/1762-preston-street-halifax-halifax\n"
     ]
    }
   ],
   "source": [
    "list = []\n",
    "\n",
    "links = driver.find_elements(By.CLASS_NAME, 'blockLink.listingDetailsLink')\n",
    "for link in links:\n",
    "    list[i] = link.get_attribute('href'))\n",
    "    i = i +1"
   ]
  },
  {
   "cell_type": "code",
   "execution_count": 16,
   "id": "a084071c",
   "metadata": {},
   "outputs": [
    {
     "name": "stdout",
     "output_type": "stream",
     "text": [
      "https://www.realtor.ca/real-estate/24148240/1304-1457-brenton-street-halifax-peninsula-halifax-peninsula\n",
      "https://www.realtor.ca/real-estate/24148242/1959-morden-road-aylesford-aylesford\n",
      "https://www.realtor.ca/real-estate/24148241/45-maple-crescent-mount-william-mount-william\n",
      "https://www.realtor.ca/real-estate/24148161/1622-north-main-street-westville-westville\n",
      "https://www.realtor.ca/real-estate/24148123/858-shaw-road-somerset-somerset\n",
      "https://www.realtor.ca/real-estate/24148164/224-harrington-road-coldbrook-coldbrook\n",
      "https://www.realtor.ca/real-estate/24148119/64-dill-road-extension-currys-corner-currys-corner\n",
      "https://www.realtor.ca/real-estate/24148121/25-sunset-drive-kingston-kingston\n",
      "https://www.realtor.ca/real-estate/24148162/35-lillian-drive-woodlawn-woodlawn\n",
      "https://www.realtor.ca/real-estate/24148124/31-panorama-lane-bedford-bedford\n",
      "https://www.realtor.ca/real-estate/24148163/81-rockmanor-drive-bedford-bedford\n",
      "https://www.realtor.ca/real-estate/24148122/51-stone-mount-drive-lower-sackville-lower-sackville\n"
     ]
    }
   ],
   "source": [
    "today = date.today()\n",
    "csv_name = \"Realtorlinks_\" + str(today) +\".csv\"\n",
    "# find web links\n",
    "link = driver.find_elements(By.class_name, 'blockLink.listingDetailsLink')\n",
    "base = \"https://www.realtor.ca/real-estate\"\n",
    "# print name of all links\n",
    "for i in link:\n",
    "    try:\n",
    "        lnk = str(i.get_attribute(\"href\"))\n",
    "        if (lnk[0:34] == base):\n",
    "            text = i.text.split('\\n')\n",
    "            price = text[0]\n",
    "            address = text[1]\n",
    "            bedroom = text[2]\n",
    "            bathroom = text[4]\n",
    "            agency = text[6]\n",
    "            with open(csv_name, 'a', newline='') as f_object:\n",
    "                writer_object = writer(f_object)\n",
    "                writer_object.writerow([lnk, price, address, bedroom, bathroom, agency])\n",
    "                f_object.close()\n",
    "            print(lnk)\n",
    "    except:\n",
    "        pass\n"
   ]
  },
  {
   "cell_type": "code",
   "execution_count": 17,
   "id": "fed936c4",
   "metadata": {},
   "outputs": [],
   "source": [
    "driver.quit()"
   ]
  }
 ],
 "metadata": {
  "kernelspec": {
   "display_name": "Python 3 (ipykernel)",
   "language": "python",
   "name": "python3"
  },
  "language_info": {
   "codemirror_mode": {
    "name": "ipython",
    "version": 3
   },
   "file_extension": ".py",
   "mimetype": "text/x-python",
   "name": "python",
   "nbconvert_exporter": "python",
   "pygments_lexer": "ipython3",
   "version": "3.9.7"
  }
 },
 "nbformat": 4,
 "nbformat_minor": 5
}
