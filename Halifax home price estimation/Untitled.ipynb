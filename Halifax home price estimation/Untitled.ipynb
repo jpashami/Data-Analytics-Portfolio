{
 "cells": [
  {
   "cell_type": "code",
   "execution_count": 1,
   "id": "169492ce",
   "metadata": {},
   "outputs": [
    {
     "name": "stdout",
     "output_type": "stream",
     "text": [
      "Collecting Django\n",
      "  Downloading Django-4.0.3-py3-none-any.whl (8.0 MB)\n",
      "Collecting sqlparse>=0.2.2\n",
      "  Downloading sqlparse-0.4.2-py3-none-any.whl (42 kB)\n",
      "Collecting tzdata\n",
      "  Downloading tzdata-2022.1-py2.py3-none-any.whl (339 kB)\n",
      "Collecting asgiref<4,>=3.4.1\n",
      "  Downloading asgiref-3.5.0-py3-none-any.whl (22 kB)\n",
      "Installing collected packages: tzdata, sqlparse, asgiref, Django\n",
      "Successfully installed Django-4.0.3 asgiref-3.5.0 sqlparse-0.4.2 tzdata-2022.1\n",
      "Note: you may need to restart the kernel to use updated packages.\n"
     ]
    }
   ],
   "source": [
    "pip install Django"
   ]
  },
  {
   "cell_type": "code",
   "execution_count": 1,
   "id": "326a891a",
   "metadata": {
    "scrolled": true
   },
   "outputs": [
    {
     "name": "stdout",
     "output_type": "stream",
     "text": [
      "Collecting pipenv\n",
      "  Downloading pipenv-2022.1.8-py2.py3-none-any.whl (3.6 MB)\n",
      "Requirement already satisfied: pip>=18.0 in c:\\users\\jpashami\\anaconda3\\lib\\site-packages (from pipenv) (21.2.4)\n",
      "Requirement already satisfied: certifi in c:\\users\\jpashami\\anaconda3\\lib\\site-packages (from pipenv) (2021.10.8)\n",
      "Collecting virtualenv\n",
      "  Downloading virtualenv-20.13.4-py2.py3-none-any.whl (8.7 MB)\n",
      "Requirement already satisfied: setuptools>=36.2.1 in c:\\users\\jpashami\\anaconda3\\lib\\site-packages (from pipenv) (58.0.4)\n",
      "Collecting virtualenv-clone>=0.2.5\n",
      "  Downloading virtualenv_clone-0.5.7-py3-none-any.whl (6.6 kB)\n",
      "Collecting platformdirs<3,>=2\n",
      "  Downloading platformdirs-2.5.1-py3-none-any.whl (14 kB)\n",
      "Requirement already satisfied: six<2,>=1.9.0 in c:\\users\\jpashami\\anaconda3\\lib\\site-packages (from virtualenv->pipenv) (1.16.0)\n",
      "Collecting distlib<1,>=0.3.1\n",
      "  Downloading distlib-0.3.4-py2.py3-none-any.whl (461 kB)\n",
      "Requirement already satisfied: filelock<4,>=3.2 in c:\\users\\jpashami\\anaconda3\\lib\\site-packages (from virtualenv->pipenv) (3.3.1)\n",
      "Installing collected packages: platformdirs, distlib, virtualenv-clone, virtualenv, pipenv\n",
      "Successfully installed distlib-0.3.4 pipenv-2022.1.8 platformdirs-2.5.1 virtualenv-20.13.4 virtualenv-clone-0.5.7\n",
      "Note: you may need to restart the kernel to use updated packages.\n"
     ]
    }
   ],
   "source": [
    "pip install pipenv"
   ]
  }
 ],
 "metadata": {
  "kernelspec": {
   "display_name": "Python 3 (ipykernel)",
   "language": "python",
   "name": "python3"
  },
  "language_info": {
   "codemirror_mode": {
    "name": "ipython",
    "version": 3
   },
   "file_extension": ".py",
   "mimetype": "text/x-python",
   "name": "python",
   "nbconvert_exporter": "python",
   "pygments_lexer": "ipython3",
   "version": "3.9.7"
  }
 },
 "nbformat": 4,
 "nbformat_minor": 5
}
