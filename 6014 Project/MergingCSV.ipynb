{
 "cells": [
  {
   "cell_type": "code",
   "execution_count": 28,
   "id": "1be29971",
   "metadata": {},
   "outputs": [],
   "source": [
    "#import pandas\n",
    "import pandas as pd\n",
    "import csv"
   ]
  },
  {
   "cell_type": "code",
   "execution_count": 52,
   "id": "9ac8d7ff",
   "metadata": {},
   "outputs": [],
   "source": [
    "home1_df = pd.read_csv('Realtor_RealEstatePage_S1_0_49.csv', encoding='utf-8', header=None)\n",
    "home2_df = pd.read_csv('Realtor_RealEstatePage_S1_50_100.csv', encoding='utf-8', header=None)\n",
    "home3_df = pd.read_csv('Realtor_RealEstatePage_S1_150_214.csv', encoding='utf-8', header=None)\n",
    "home4_df = pd.read_csv('Realtor_RealEstatePage_S2_0_100.csv', encoding='utf-8', header=None)\n",
    "home5_df = pd.read_csv('Realtor_RealEstatePage_S2_101_156.csv', encoding='utf-8', header=None)\n",
    "home6_df = pd.read_csv('Realtor_RealEstatePage_S2_157_444.csv', encoding='utf-8', header=None)"
   ]
  },
  {
   "cell_type": "code",
   "execution_count": 53,
   "id": "846d6f82",
   "metadata": {},
   "outputs": [],
   "source": [
    "final_df = pd.concat([home1_df,home2_df]).drop_duplicates().reset_index(drop=True)\n",
    "final_df = pd.concat([final_df,home3_df]).drop_duplicates().reset_index(drop=True)\n",
    "final_df = pd.concat([final_df,home4_df]).drop_duplicates().reset_index(drop=True)\n",
    "final_df = pd.concat([final_df,home5_df]).drop_duplicates().reset_index(drop=True)\n",
    "final_df = pd.concat([final_df,home6_df]).drop_duplicates().reset_index(drop=True)"
   ]
  },
  {
   "cell_type": "code",
   "execution_count": 54,
   "id": "2835f2d7",
   "metadata": {},
   "outputs": [
    {
     "data": {
      "text/plain": [
       "563"
      ]
     },
     "execution_count": 54,
     "metadata": {},
     "output_type": "execute_result"
    }
   ],
   "source": [
    "len(final_df)"
   ]
  },
  {
   "cell_type": "code",
   "execution_count": 51,
   "id": "7d404cce",
   "metadata": {},
   "outputs": [],
   "source": [
    "headerList = ['scrapeDatetime', 'url', 'price', 'addressline1', 'addressline2', 'po', 'mls', 'bedrooms', 'totalbedrooms', 'bathrooms', 'propertyType', 'BuildingType', 'storeys', 'communityName', 'title', 'landSize', 'Builtin', 'parkingType', 'publishTime' , 'PriceHistory', 'totalFinishedArea', 'appliancesIncluded', 'foundationType', 'style', 'architectureStyle', 'basementType']\n",
    "final_df.iloc[:,:26].to_csv('home0_563.csv', header = headerList, index=False)"
   ]
  }
 ],
 "metadata": {
  "kernelspec": {
   "display_name": "Python 3 (ipykernel)",
   "language": "python",
   "name": "python3"
  },
  "language_info": {
   "codemirror_mode": {
    "name": "ipython",
    "version": 3
   },
   "file_extension": ".py",
   "mimetype": "text/x-python",
   "name": "python",
   "nbconvert_exporter": "python",
   "pygments_lexer": "ipython3",
   "version": "3.9.7"
  }
 },
 "nbformat": 4,
 "nbformat_minor": 5
}
