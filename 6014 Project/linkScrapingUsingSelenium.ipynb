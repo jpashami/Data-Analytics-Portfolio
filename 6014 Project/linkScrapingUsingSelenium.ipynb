{
 "cells": [
  {
   "cell_type": "code",
   "execution_count": 1,
   "id": "b3cad68f",
   "metadata": {},
   "outputs": [],
   "source": [
    "from json.tool import main\n",
    "from selenium import webdriver\n",
    "from selenium.webdriver.common.keys import Keys\n",
    "from selenium.webdriver.common.by import By\n",
    "from selenium.webdriver.support.ui import WebDriverWait\n",
    "from selenium.webdriver.support import expected_conditions as EC\n",
    "import time\n",
    "import csv\n",
    "from datetime import date\n",
    "# Import writer class from csv module\n",
    "from csv import writer"
   ]
  },
  {
   "cell_type": "code",
   "execution_count": 2,
   "id": "d2f47566",
   "metadata": {},
   "outputs": [
    {
     "name": "stderr",
     "output_type": "stream",
     "text": [
      "C:\\Users\\JPASHAMI\\AppData\\Local\\Temp/ipykernel_19796/2333241734.py:2: DeprecationWarning: executable_path has been deprecated, please pass in a Service object\n",
      "  driver = webdriver.Chrome(PATH)\n"
     ]
    }
   ],
   "source": [
    "PATH = \"C:\\Program Files (x86)\\chromedriver.exe\"\n",
    "driver = webdriver.Chrome(PATH)\n",
    "driver.get(\"https://www.realtor.ca/map#ZoomLevel=8&Center=44.595693%2C-61.953830&LatitudeMax=45.64606&LongitudeMax=-58.65793&LatitudeMin=43.52599&LongitudeMin=-65.24973&view=list&Sort=6-D&PGeoIds=g30_dxgnyskn&GeoName=Halifax%20Regional%20Municipality%2C%20NS&PropertyTypeGroupID=1&PropertySearchTypeId=1&TransactionTypeId=2&Currency=CAD\")"
   ]
  },
  {
   "cell_type": "code",
   "execution_count": 4,
   "id": "91c7fba4",
   "metadata": {},
   "outputs": [
    {
     "name": "stdout",
     "output_type": "stream",
     "text": [
      "https://www.realtor.ca/real-estate/24148168/lot-12a-alder-crescent-new-russell-new-russell\n",
      "https://www.realtor.ca/real-estate/24148167/lot-65a-evergreen-rise-new-russell-new-russell\n",
      "https://www.realtor.ca/real-estate/24148165/32-martyn-drive-fall-river-fall-river\n",
      "https://www.realtor.ca/real-estate/24148120/3029-beaver-bank-road-beaver-bank-beaver-bank\n",
      "https://www.realtor.ca/real-estate/24147764/469-ostrea-lake-road-ostrea-lake-ostrea-lake\n",
      "https://www.realtor.ca/real-estate/24147735/74-shepherds-lane-hayling-acres-lawrencetown-lawrencetown\n",
      "https://www.realtor.ca/real-estate/24147763/lot-bc10a-40-bramwell-court-the-cascades-bedford-west-bedford-west\n",
      "https://www.realtor.ca/real-estate/24147436/4090-highway-1-hants-hants\n",
      "https://www.realtor.ca/real-estate/24147371/235-taylor-drive-extension-nictaux-nictaux\n",
      "https://www.realtor.ca/real-estate/24147181/54-maclaughlin-drive-port-hawkesbury-port-hawkesbury\n",
      "https://www.realtor.ca/real-estate/24146000/22-ridge-avenue-stewiacke-stewiacke\n",
      "https://www.realtor.ca/real-estate/24145574/17-teviot-place-valley-valley\n"
     ]
    }
   ],
   "source": [
    "today = date.today()\n",
    "csv_name = \"Realtorlinks_\" + str(today) +\".csv\"\n",
    "# find web links\n",
    "link = driver.find_elements(By.TAG_NAME, 'a')\n",
    "base = \"https://www.realtor.ca/real-estate\"\n",
    "# print name of all links\n",
    "for i in link:\n",
    "    lnk = str(i.get_attribute(\"href\"))\n",
    "    if (lnk[0:34] == base):\n",
    "        with open(csv_name, 'a', newline='') as f_object:\n",
    "            writer_object = writer(f_object)\n",
    "            writer_object.writerow([lnk])\n",
    "            f_object.close()\n",
    "        print(lnk)"
   ]
  },
  {
   "cell_type": "code",
   "execution_count": 5,
   "id": "49f6fc23",
   "metadata": {},
   "outputs": [],
   "source": [
    "driver.quit()"
   ]
  }
 ],
 "metadata": {
  "kernelspec": {
   "display_name": "Python 3 (ipykernel)",
   "language": "python",
   "name": "python3"
  },
  "language_info": {
   "codemirror_mode": {
    "name": "ipython",
    "version": 3
   },
   "file_extension": ".py",
   "mimetype": "text/x-python",
   "name": "python",
   "nbconvert_exporter": "python",
   "pygments_lexer": "ipython3",
   "version": "3.9.7"
  }
 },
 "nbformat": 4,
 "nbformat_minor": 5
}
