{
 "cells": [
  {
   "cell_type": "code",
   "execution_count": 13,
   "id": "9df0b562",
   "metadata": {},
   "outputs": [
    {
     "name": "stdout",
     "output_type": "stream",
     "text": [
      "['#mainPageContent', '/', '/', '/?siteLocale=fr_CA', '/t-user-registration.html?targetUrl=L2ItZm9yLXNhbGUvbm92YS1zY290aWEvYzMwMzUzMDAxbDkwMDJeZzliQWV3b0VFWU4xWWZyZEhlUllUdz09', '/t-login.html?targetUrl=L2ItZm9yLXNhbGUvbm92YS1zY290aWEvYzMwMzUzMDAxbDkwMDJeZzliQWV3b0VFWU4xWWZyZEhlUllUdz09', '/p-select-category.html', 'https://www.kijiji.ca/h-nova-scotia/9002', 'https://www.kijiji.ca/b-real-estate/nova-scotia/c34l9002?ad=offering', '/b-house-for-sale/nova-scotia/c35l9002', '/b-condo-for-sale/nova-scotia/c643l9002', '/b-land-for-sale/nova-scotia/c641l9002', '/b-commercial-office-space-for-sale/nova-scotia/c44l9002', '/p-select-category.html?categoryId=30353001', 'https://help.kijiji.ca/performance/TopAd', '/b-for-sale/nova-scotia/c30353001l9002?ad=offering&gpTopAds=y', '/v-house-for-sale/new-glasgow-ns/48-dover-ave-private-sale/1606024384', '/v-house-for-sale/truro/horse-barn-ranch-for-sale/1609017080', '/v-house-for-sale/new-glasgow-ns/a-beach-shangri-la-for-sale/1608692785', '/v-land-for-sale/annapolis-valley/r5-residential-development-land/1595555823', '/v-house-for-sale/annapolis-valley/homes-for-sale-in-first-avenue-digby-nova-scotia-210-000/1609051309', '/v-house-for-sale/yarmouth/homes-for-sale-in-meteghan-nova-scotia-250-000/1609051193', '/v-house-for-sale/bridgewater/15-morley-street/1609050883', '/b-for-sale/nova-scotia/mini-home/k0c30353001l9002', '/b-for-sale/nova-scotia/cottage/k0c30353001l9002', '/b-for-sale/nova-scotia/waterfront/k0c30353001l9002', '/b-for-sale/nova-scotia/mobile-home/k0c30353001l9002', '/b-for-sale/nova-scotia/land/k0c30353001l9002', '/b-land-for-sale/nova-scotia/c641l9002', '/b-house-for-sale/nova-scotia/c35l9002', '/b-for-sale/nova-scotia/house/k0c30353001l9002', '/b-for-sale/nova-scotia/oceanfront/k0c30353001l9002', '/b-for-sale/nova-scotia/sydney/k0c30353001l9002', '/b-for-sale/nova-scotia/c30353001l9002?ad=offering', '/b-for-sale/annapolis-valley/c30353001l1700256?ad=offering', '/b-for-sale/bridgewater/c30353001l1700257?ad=offering', '/b-for-sale/cape-breton/c30353001l1700011?ad=offering', '/b-for-sale/halifax/c30353001l80010?ad=offering', '/b-for-sale/new-glasgow-ns/c30353001l1700258?ad=offering', '/b-for-sale/truro/c30353001l1700047?ad=offering', '/b-for-sale/yarmouth/c30353001l1700259?ad=offering', '/v-house-for-sale/new-glasgow-ns/2252-highway-344/1609050824', '/v-house-for-sale/new-glasgow-ns/62-maclellan-street-antigonish-town/1609050858', '/v-house-for-sale/yarmouth/a-b-54-cliff-street/1609050862', '/v-house-for-sale/yarmouth/3526-highway-203/1609050747', '/v-house-for-sale/yarmouth/homes-for-sale-in-weymouth-nova-scotia-220-000/1609050686', '/v-house-for-sale/annapolis-valley/207-upper-river-street/1609050544', '/v-house-for-sale/new-glasgow-ns/homes-for-sale-in-stellarton-nova-scotia-179-899/1609050525', '/v-house-for-sale/new-glasgow-ns/1366-new-france-road-road-fraser-grant/1609050349', '/v-house-for-sale/yarmouth/118-kinney-road/1609050399', '/v-house-for-sale/annapolis-valley/112-north-range-cross-road/1609050291', '/v-house-for-sale/yarmouth/homes-for-sale-in-grosses-coques-nova-scotia-289-000/1609050464', '/v-house-for-sale/new-glasgow-ns/2252-highway-344-manassette-lake-nova-scotia/1609050420', '/v-house-for-sale/bridgewater/24-hospital/1609050341', '/v-house-for-sale/new-glasgow-ns/464-main-street/1609050160', '/v-house-for-sale/new-glasgow-ns/2306-16-highway/1609050235', '/v-house-for-sale/new-glasgow-ns/11-carleton-terrace/1609050135', '/v-house-for-sale/yarmouth/5448-1-highway/1609050236', '/v-house-for-sale/yarmouth/118-kinney-road/1609050134', '/v-house-for-sale/yarmouth/s-d-lot-s1-3651-port-la-tour-road/1609050255', '/v-house-for-sale/annapolis-valley/1117-cape-split/1609050246', '/v-house-for-sale/yarmouth/3822-highway-340/1609050194', '/v-house-for-sale/annapolis-valley/21-turner-drive/1609050216', '/v-house-for-sale/annapolis-valley/1863-acadia-drive/1609050184', '/v-house-for-sale/bridgewater/191-highway-208/1609050191', '/v-house-for-sale/annapolis-valley/1672-granville-road/1609050244', '/v-house-for-sale/new-glasgow-ns/4311-south-river-road/1609050114', '/v-house-for-sale/yarmouth/68-glasgow-street/1609050121', '/v-house-for-sale/annapolis-valley/161-exhibition-street/1609050102', '/v-house-for-sale/yarmouth/677-north-ohio-road/1609050119', '/v-house-for-sale/new-glasgow-ns/68-college-grant-road-college-grant-nova-scotia/1609049641', '/v-house-for-sale/new-glasgow-ns/335-macdonald-street-new-glasgow-nova-scotia/1609049414', '/v-house-for-sale/new-glasgow-ns/62-maclellan-street-antigonish-town-antigonish-nova-scotia/1609049311', '/v-house-for-sale/annapolis-valley/418-clarence-road-beaconsfield-nova-scotia/1609048678', '/v-house-for-sale/yarmouth/1336-highway-308-surettes-island-nova-scotia/1609050351', '/v-house-for-sale/annapolis-valley/23-turner-drive/1609050298', '/v-house-for-sale/annapolis-valley/418-clarence-road/1609050308', '/b-for-sale/nova-scotia/page-2/c30353001l9002?ad=offering', '/b-for-sale/nova-scotia/page-3/c30353001l9002?ad=offering', '/b-for-sale/nova-scotia/page-4/c30353001l9002?ad=offering', '/b-for-sale/nova-scotia/page-5/c30353001l9002?ad=offering', '/b-for-sale/nova-scotia/page-6/c30353001l9002?ad=offering', '/b-for-sale/nova-scotia/page-7/c30353001l9002?ad=offering', '/b-for-sale/nova-scotia/page-8/c30353001l9002?ad=offering', '/b-for-sale/nova-scotia/page-9/c30353001l9002?ad=offering', '/b-for-sale/nova-scotia/page-10/c30353001l9002?ad=offering', '/b-for-sale/nova-scotia/page-2/c30353001l9002?ad=offering', '/rss-srp-for-sale/nova-scotia/c30353001l9002?ad=offering', '', '#', 'https://www.kijiji.ca/kijijicentral/general/about-us/?utm_source=Kijiji&utm_medium=Footer', 'https://jobs.ebayclassifiedsgroup.com/', 'https://help.kijiji.ca/helpdesk/basics/benefits-of-registering', 'https://business.kijiji.ca', 'https://www.kijijiautos.ca/?utm_source=kijiji&utm_medium=referral&utm_campaign=footer', 'https://www.kijiji.ca/kijijicentral/?utm_source=Kijiji&utm_medium=Footer', 'https://help.kijiji.ca/performance?utm_source=Kijiji&utm_medium=footer', 'https://help.kijiji.ca/helpdesk/policies/kijiji-terms-of-use', 'https://help.kijiji.ca/helpdesk/policies/kijiji-privacy-policy', 'https://help.kijiji.ca/helpdesk/policies/posting-policies', 'https://help.kijiji.ca/helpdesk/policies/kijiji-privacy-policy', 'https://help.kijiji.ca/helpdesk/', '?siteLocale=fr_CA', 'https://help.kijiji.ca/helpdesk/policies/multi-year-accessibility-plan', 'https://itunes.apple.com/ca/app/kijiji-free-local-classifieds/id318979520', 'https://play.google.com/store/apps/details?id=com.ebay.kijiji.ca', 'https://www.facebook.com/Kijiji.ca', 'https://www.instagram.com/kijijicanada/', 'https://twitter.com/Kijiji', 'https://www.kijiji.ca/kijijicentral/?utm_source=Kijiji&utm_medium=FooterIcon', 'https://www.youtube.com/kijijicanadacorp']\n"
     ]
    }
   ],
   "source": [
    "from bs4 import BeautifulSoup\n",
    "from urllib.request import Request, urlopen\n",
    "import re\n",
    "\n",
    "req = Request(\"https://www.kijiji.ca/b-for-sale/nova-scotia/c30353001l9002\")\n",
    "html_page = urlopen(req)\n",
    "\n",
    "soup = BeautifulSoup(html_page, \"lxml\")\n",
    "\n",
    "links = []\n",
    "linkRep = []\n",
    "i=0\n",
    "for link in soup.findAll('a'):\n",
    "    links.append(link.get('href'))\n",
    "    #linkRep[i]= link.get('href')\n",
    "    #i = i + 1\n",
    "print(links)"
   ]
  },
  {
   "cell_type": "code",
   "execution_count": 14,
   "id": "edd915e4",
   "metadata": {},
   "outputs": [
    {
     "name": "stdout",
     "output_type": "stream",
     "text": [
      "/t-user-registration.html?targetUrl=L2ItZm9yLXNhbGUvbm92YS1zY290aWEvYzMwMzUzMDAxbDkwMDJeZzliQWV3b0VFWU4xWWZyZEhlUllUdz09\n"
     ]
    }
   ],
   "source": [
    "print(links[4])"
   ]
  },
  {
   "cell_type": "code",
   "execution_count": 15,
   "id": "6b1b0dbd",
   "metadata": {},
   "outputs": [],
   "source": [
    "import time\n",
    "import csv"
   ]
  },
  {
   "cell_type": "code",
   "execution_count": 16,
   "id": "79bcc7d3",
   "metadata": {},
   "outputs": [
    {
     "name": "stdout",
     "output_type": "stream",
     "text": [
      "#mainPageContent\n",
      "/\n",
      "/\n",
      "/?siteLocale=fr_CA\n",
      "/t-user-registration.html?targetUrl=L2ItZm9yLXNhbGUvbm92YS1zY290aWEvYzMwMzUzMDAxbDkwMDJeZzliQWV3b0VFWU4xWWZyZEhlUllUdz09\n",
      "/t-login.html?targetUrl=L2ItZm9yLXNhbGUvbm92YS1zY290aWEvYzMwMzUzMDAxbDkwMDJeZzliQWV3b0VFWU4xWWZyZEhlUllUdz09\n",
      "/p-select-category.html\n",
      "https://www.kijiji.ca/h-nova-scotia/9002\n",
      "https://www.kijiji.ca/b-real-estate/nova-scotia/c34l9002?ad=offering\n",
      "/b-house-for-sale/nova-scotia/c35l9002\n",
      "/b-condo-for-sale/nova-scotia/c643l9002\n",
      "/b-land-for-sale/nova-scotia/c641l9002\n",
      "/b-commercial-office-space-for-sale/nova-scotia/c44l9002\n",
      "/p-select-category.html?categoryId=30353001\n",
      "https://help.kijiji.ca/performance/TopAd\n",
      "/b-for-sale/nova-scotia/c30353001l9002?ad=offering&gpTopAds=y\n",
      "/v-house-for-sale/new-glasgow-ns/48-dover-ave-private-sale/1606024384\n",
      "/v-house-for-sale/truro/horse-barn-ranch-for-sale/1609017080\n",
      "/v-house-for-sale/new-glasgow-ns/a-beach-shangri-la-for-sale/1608692785\n",
      "/v-land-for-sale/annapolis-valley/r5-residential-development-land/1595555823\n",
      "/v-house-for-sale/annapolis-valley/homes-for-sale-in-first-avenue-digby-nova-scotia-210-000/1609051309\n",
      "/v-house-for-sale/yarmouth/homes-for-sale-in-meteghan-nova-scotia-250-000/1609051193\n",
      "/v-house-for-sale/bridgewater/15-morley-street/1609050883\n",
      "/b-for-sale/nova-scotia/mini-home/k0c30353001l9002\n",
      "/b-for-sale/nova-scotia/cottage/k0c30353001l9002\n",
      "/b-for-sale/nova-scotia/waterfront/k0c30353001l9002\n",
      "/b-for-sale/nova-scotia/mobile-home/k0c30353001l9002\n",
      "/b-for-sale/nova-scotia/land/k0c30353001l9002\n",
      "/b-land-for-sale/nova-scotia/c641l9002\n",
      "/b-house-for-sale/nova-scotia/c35l9002\n",
      "/b-for-sale/nova-scotia/house/k0c30353001l9002\n",
      "/b-for-sale/nova-scotia/oceanfront/k0c30353001l9002\n",
      "/b-for-sale/nova-scotia/sydney/k0c30353001l9002\n",
      "/b-for-sale/nova-scotia/c30353001l9002?ad=offering\n",
      "/b-for-sale/annapolis-valley/c30353001l1700256?ad=offering\n",
      "/b-for-sale/bridgewater/c30353001l1700257?ad=offering\n",
      "/b-for-sale/cape-breton/c30353001l1700011?ad=offering\n",
      "/b-for-sale/halifax/c30353001l80010?ad=offering\n",
      "/b-for-sale/new-glasgow-ns/c30353001l1700258?ad=offering\n",
      "/b-for-sale/truro/c30353001l1700047?ad=offering\n",
      "/b-for-sale/yarmouth/c30353001l1700259?ad=offering\n",
      "/v-house-for-sale/new-glasgow-ns/2252-highway-344/1609050824\n",
      "/v-house-for-sale/new-glasgow-ns/62-maclellan-street-antigonish-town/1609050858\n",
      "/v-house-for-sale/yarmouth/a-b-54-cliff-street/1609050862\n",
      "/v-house-for-sale/yarmouth/3526-highway-203/1609050747\n",
      "/v-house-for-sale/yarmouth/homes-for-sale-in-weymouth-nova-scotia-220-000/1609050686\n",
      "/v-house-for-sale/annapolis-valley/207-upper-river-street/1609050544\n",
      "/v-house-for-sale/new-glasgow-ns/homes-for-sale-in-stellarton-nova-scotia-179-899/1609050525\n",
      "/v-house-for-sale/new-glasgow-ns/1366-new-france-road-road-fraser-grant/1609050349\n",
      "/v-house-for-sale/yarmouth/118-kinney-road/1609050399\n",
      "/v-house-for-sale/annapolis-valley/112-north-range-cross-road/1609050291\n",
      "/v-house-for-sale/yarmouth/homes-for-sale-in-grosses-coques-nova-scotia-289-000/1609050464\n",
      "/v-house-for-sale/new-glasgow-ns/2252-highway-344-manassette-lake-nova-scotia/1609050420\n",
      "/v-house-for-sale/bridgewater/24-hospital/1609050341\n",
      "/v-house-for-sale/new-glasgow-ns/464-main-street/1609050160\n",
      "/v-house-for-sale/new-glasgow-ns/2306-16-highway/1609050235\n",
      "/v-house-for-sale/new-glasgow-ns/11-carleton-terrace/1609050135\n",
      "/v-house-for-sale/yarmouth/5448-1-highway/1609050236\n",
      "/v-house-for-sale/yarmouth/118-kinney-road/1609050134\n",
      "/v-house-for-sale/yarmouth/s-d-lot-s1-3651-port-la-tour-road/1609050255\n",
      "/v-house-for-sale/annapolis-valley/1117-cape-split/1609050246\n",
      "/v-house-for-sale/yarmouth/3822-highway-340/1609050194\n",
      "/v-house-for-sale/annapolis-valley/21-turner-drive/1609050216\n",
      "/v-house-for-sale/annapolis-valley/1863-acadia-drive/1609050184\n",
      "/v-house-for-sale/bridgewater/191-highway-208/1609050191\n",
      "/v-house-for-sale/annapolis-valley/1672-granville-road/1609050244\n",
      "/v-house-for-sale/new-glasgow-ns/4311-south-river-road/1609050114\n",
      "/v-house-for-sale/yarmouth/68-glasgow-street/1609050121\n",
      "/v-house-for-sale/annapolis-valley/161-exhibition-street/1609050102\n",
      "/v-house-for-sale/yarmouth/677-north-ohio-road/1609050119\n",
      "/v-house-for-sale/new-glasgow-ns/68-college-grant-road-college-grant-nova-scotia/1609049641\n",
      "/v-house-for-sale/new-glasgow-ns/335-macdonald-street-new-glasgow-nova-scotia/1609049414\n",
      "/v-house-for-sale/new-glasgow-ns/62-maclellan-street-antigonish-town-antigonish-nova-scotia/1609049311\n",
      "/v-house-for-sale/annapolis-valley/418-clarence-road-beaconsfield-nova-scotia/1609048678\n",
      "/v-house-for-sale/yarmouth/1336-highway-308-surettes-island-nova-scotia/1609050351\n",
      "/v-house-for-sale/annapolis-valley/23-turner-drive/1609050298\n",
      "/v-house-for-sale/annapolis-valley/418-clarence-road/1609050308\n",
      "/b-for-sale/nova-scotia/page-2/c30353001l9002?ad=offering\n",
      "/b-for-sale/nova-scotia/page-3/c30353001l9002?ad=offering\n",
      "/b-for-sale/nova-scotia/page-4/c30353001l9002?ad=offering\n",
      "/b-for-sale/nova-scotia/page-5/c30353001l9002?ad=offering\n",
      "/b-for-sale/nova-scotia/page-6/c30353001l9002?ad=offering\n",
      "/b-for-sale/nova-scotia/page-7/c30353001l9002?ad=offering\n",
      "/b-for-sale/nova-scotia/page-8/c30353001l9002?ad=offering\n",
      "/b-for-sale/nova-scotia/page-9/c30353001l9002?ad=offering\n",
      "/b-for-sale/nova-scotia/page-10/c30353001l9002?ad=offering\n",
      "/b-for-sale/nova-scotia/page-2/c30353001l9002?ad=offering\n",
      "/rss-srp-for-sale/nova-scotia/c30353001l9002?ad=offering\n",
      "\n",
      "#\n",
      "https://www.kijiji.ca/kijijicentral/general/about-us/?utm_source=Kijiji&utm_medium=Footer\n",
      "https://jobs.ebayclassifiedsgroup.com/\n",
      "https://help.kijiji.ca/helpdesk/basics/benefits-of-registering\n",
      "https://business.kijiji.ca\n",
      "https://www.kijijiautos.ca/?utm_source=kijiji&utm_medium=referral&utm_campaign=footer\n",
      "https://www.kijiji.ca/kijijicentral/?utm_source=Kijiji&utm_medium=Footer\n",
      "https://help.kijiji.ca/performance?utm_source=Kijiji&utm_medium=footer\n",
      "https://help.kijiji.ca/helpdesk/policies/kijiji-terms-of-use\n",
      "https://help.kijiji.ca/helpdesk/policies/kijiji-privacy-policy\n",
      "https://help.kijiji.ca/helpdesk/policies/posting-policies\n",
      "https://help.kijiji.ca/helpdesk/policies/kijiji-privacy-policy\n",
      "https://help.kijiji.ca/helpdesk/\n",
      "?siteLocale=fr_CA\n",
      "https://help.kijiji.ca/helpdesk/policies/multi-year-accessibility-plan\n",
      "https://itunes.apple.com/ca/app/kijiji-free-local-classifieds/id318979520\n",
      "https://play.google.com/store/apps/details?id=com.ebay.kijiji.ca\n",
      "https://www.facebook.com/Kijiji.ca\n",
      "https://www.instagram.com/kijijicanada/\n",
      "https://twitter.com/Kijiji\n",
      "https://www.kijiji.ca/kijijicentral/?utm_source=Kijiji&utm_medium=FooterIcon\n",
      "https://www.youtube.com/kijijicanadacorp\n"
     ]
    }
   ],
   "source": [
    "csv_file = open('kijiji_RealStatelinks.csv', 'w')\n",
    "csv_writer = csv.writer(csv_file)\n",
    "csv_writer.writerow(['link'])\n",
    "for link in links: \n",
    "        csv_writer.writerow([link], newline='')\n",
    "        print(link)\n",
    "csv_file.close()"
   ]
  },
  {
   "cell_type": "code",
   "execution_count": null,
   "id": "8f54c8b2",
   "metadata": {},
   "outputs": [],
   "source": []
  }
 ],
 "metadata": {
  "kernelspec": {
   "display_name": "Python 3 (ipykernel)",
   "language": "python",
   "name": "python3"
  },
  "language_info": {
   "codemirror_mode": {
    "name": "ipython",
    "version": 3
   },
   "file_extension": ".py",
   "mimetype": "text/x-python",
   "name": "python",
   "nbconvert_exporter": "python",
   "pygments_lexer": "ipython3",
   "version": "3.9.7"
  }
 },
 "nbformat": 4,
 "nbformat_minor": 5
}
