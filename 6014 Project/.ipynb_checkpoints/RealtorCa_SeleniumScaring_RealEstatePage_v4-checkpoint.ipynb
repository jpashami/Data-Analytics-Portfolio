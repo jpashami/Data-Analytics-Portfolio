{
 "cells": [
  {
   "cell_type": "code",
   "execution_count": 54,
   "id": "e5c2f6a9",
   "metadata": {},
   "outputs": [],
   "source": [
    "from json.tool import main\n",
    "from selenium import webdriver\n",
    "from selenium.webdriver.common.keys import Keys\n",
    "from selenium.webdriver.common.by import By\n",
    "from selenium.webdriver.common.proxy import Proxy, ProxyType\n",
    "from selenium.webdriver.support.ui import WebDriverWait\n",
    "from selenium.webdriver.support import expected_conditions as EC\n",
    "import time\n",
    "from datetime import datetime\n",
    "import csv\n",
    "from csv import writer\n",
    "import pandas as pd"
   ]
  },
  {
   "cell_type": "code",
   "execution_count": 2,
   "id": "78c00688",
   "metadata": {},
   "outputs": [],
   "source": [
    "df = pd. read_csv('Realtorlinks_2022-03-16.csv', header =None, usecols=[0])"
   ]
  },
  {
   "cell_type": "code",
   "execution_count": 47,
   "id": "5c835bdf",
   "metadata": {},
   "outputs": [],
   "source": [
    "counter = 166"
   ]
  },
  {
   "cell_type": "code",
   "execution_count": 65,
   "id": "677cd4d1",
   "metadata": {},
   "outputs": [
    {
     "name": "stdout",
     "output_type": "stream",
     "text": [
      "183.88.86.13:8080 faild!\n"
     ]
    }
   ],
   "source": [
    "proxy = '183.88.86.13:8080'\n",
    "url = 'http://httpbin.org/ip'\n",
    "#url = 'Realtor.ca'\n",
    "try:\n",
    "    r= requests.get(url, proxies={'http': proxy, 'https': proxy}, timeout = 30)\n",
    "    print(r.status_code)\n",
    "    print(r.json())\n",
    "except:\n",
    "    print(proxy, 'faild!')\n",
    "    pass"
   ]
  },
  {
   "cell_type": "code",
   "execution_count": 59,
   "id": "9dbe91ba",
   "metadata": {},
   "outputs": [],
   "source": [
    "proxy_ip_port = '183.88.86.13:8080'\n",
    "proxy = Proxy()\n",
    "proxy.proxy_type = ProxyType.MANUAL\n",
    "proxy.http_proxy = proxy_ip_port\n",
    "proxy.ssl_proxy = proxy_ip_port\n",
    "capabilities = webdriver.DesiredCapabilities.CHROME\n",
    "proxy.add_to_capabilities(capabilities)"
   ]
  },
  {
   "cell_type": "code",
   "execution_count": 60,
   "id": "1e01f33e",
   "metadata": {},
   "outputs": [
    {
     "name": "stdout",
     "output_type": "stream",
     "text": [
      "170\n",
      "https://www.realtor.ca/real-estate/24103901/66-shirley-elliot-court-bedford-west-bedford-west\n"
     ]
    },
    {
     "name": "stderr",
     "output_type": "stream",
     "text": [
      "C:\\Users\\JPASHAMI\\AppData\\Local\\Temp/ipykernel_13936/3851662956.py:6: DeprecationWarning: executable_path has been deprecated, please pass in a Service object\n",
      "  driver = webdriver.Chrome(PATH, desired_capabilities = capabilities)\n"
     ]
    }
   ],
   "source": [
    "counter = counter + 1\n",
    "url = df.iat[counter,0]\n",
    "print(counter)\n",
    "print(url)\n",
    "PATH = \"C:\\Program Files (x86)\\chromedriver.exe\"\n",
    "driver = webdriver.Chrome(PATH, desired_capabilities = capabilities)\n",
    "driver.get(url)\n",
    "#time.sleep(8)"
   ]
  },
  {
   "cell_type": "code",
   "execution_count": 53,
   "id": "86b64643",
   "metadata": {},
   "outputs": [
    {
     "name": "stdout",
     "output_type": "stream",
     "text": [
      "['03/25/2022, 09:23:52', 'https://www.realtor.ca/real-estate/24103897/4320-brooklyn-street-somerset-somerset', '$299,900', '4320 Brooklyn Street', 'Somerset, Nova Scotia B0P1E0', 'B0P1E0', 'MLS® Number: 202203490', '2 + 0', 2, '2', 'Single Family', 'House', '2', 'Somerset', 'Freehold', 'under 1/2 acre', '1873', 'Gravel', '20 days', '', '3650 sqft', '', 'Stone', 'Detached', '', 'Crawl space', 'Building', 'Bedrooms', 'Above Grade', '2', 'Bathrooms', 'Total', '2', 'Partial', '1', 'Interior Features', 'Flooring', 'Hardwood, Wood, Vinyl', 'Basement Type', 'Crawl space', 'Building Features', 'Features', 'Level', 'Foundation Type', 'Stone', 'Style', 'Detached', 'Total Finished Area', '3650 sqft', 'Utilities', 'Utility Sewer', 'Septic System', 'Water', 'Drilled Well', 'Exterior Features', 'Exterior Finish', 'Steel, Vinyl', 'Neighbourhood Features', 'Community Features', 'Recreational Facilities, School Bus', 'Amenities Nearby', 'Golf Course, Park, Playground, Public Transit, Place of Worship', 'Parking', 'Parking Type', 'Gravel']\n"
     ]
    }
   ],
   "source": [
    "now = datetime.now() # current date and time\n",
    "scrapeDatetime = now.strftime(\"%m/%d/%Y, %H:%M:%S\")\n",
    "#print (scrapeDatetime)\n",
    "listingDetailsTopCon = driver.find_element(by=By.ID, value=\"listingDetailsTopCon\")\n",
    "ls = listingDetailsTopCon.text.split('\\n')\n",
    "if ls[0][0] == '$':\n",
    "    i=0\n",
    "else:\n",
    "    i=1\n",
    "price = ls[i]\n",
    "addressline1 = ls[i+2]\n",
    "#i=i+1\n",
    "addressline2 = ls[i+3]\n",
    "po = addressline2[-6:]\n",
    "mls = ls[i+4]\n",
    "bedrooms = ls[i+5]\n",
    "totalbedrooms = int(ls[i+5][0])+ int(ls[i+5][-1:])\n",
    "bathrooms = ls[i+7]\n",
    "#print(ls)\n",
    "obj = [scrapeDatetime, url, price, addressline1, addressline2, po, mls, bedrooms, totalbedrooms, bathrooms]\n",
    "#print(obj)\n",
    "PropertySummary = driver.find_element(by=By.ID, value=\"PropertySummary\")\n",
    "ps = PropertySummary.text.split('\\n')\n",
    "#print(ps)\n",
    "propertyType = ''\n",
    "BuildingType = ''\n",
    "storeys = ''\n",
    "communityName = ''\n",
    "title = ''\n",
    "landSize = ''\n",
    "Builtin = ''\n",
    "parkingType = ''\n",
    "publishTime = ''\n",
    "for item in ps:\n",
    "    if item == 'Property Type':\n",
    "        k = ps.index(item)\n",
    "        propertyType = ps[k+1]\n",
    "    if item == 'Building Type':\n",
    "        k = ps.index(item)\n",
    "        BuildingType = ps[k+1]\n",
    "    if item == 'Storeys':\n",
    "        k = ps.index(item)\n",
    "        storeys = ps[k+1]\n",
    "    if item == 'Community Name':\n",
    "        k = ps.index(item)\n",
    "        communityName  = ps[k+1]\n",
    "    if item == 'Title':\n",
    "        k = ps.index(item)\n",
    "        title = ps[k+1]\n",
    "    if item == 'Land Size':\n",
    "        k = ps.index(item)\n",
    "        landSize = ps[k+1]\n",
    "    if item == 'Built in':\n",
    "        k = ps.index(item)\n",
    "        Builtin = ps[k+1]\n",
    "    if item == 'Parking Type':\n",
    "        k = ps.index(item)\n",
    "        parkingType = ps[k+1]\n",
    "    if item == 'Time on REALTOR.ca':\n",
    "        k = ps.index(item)\n",
    "        publishTime = ps[k+1]\n",
    "obj.extend([propertyType, BuildingType, storeys, communityName, title, landSize, Builtin, parkingType, publishTime])\n",
    "#print(obj)\n",
    "try:\n",
    "    PriceHistory = driver.find_element(by=By.ID, value=\"historyDetailSection\")\n",
    "    ph = PriceHistory.text.split('\\n')\n",
    "    priceHistory = ph[2]\n",
    "except:\n",
    "    ph[2] = ''\n",
    "#print(ph[2])\n",
    "obj.append(ph[2])\n",
    "listingDetailsBuildingCon = driver.find_element(by=By.ID, value=\"listingDetailsBuildingCon\")\n",
    "lsd = listingDetailsBuildingCon.text.split('\\n')\n",
    "totalFinishedArea = ''\n",
    "appliancesIncluded = ''\n",
    "foundationType = ''\n",
    "style = ''\n",
    "architectureStyle = ''\n",
    "basementType = ''\n",
    "\n",
    "for item in lsd:\n",
    "    if item == 'Total Finished Area':\n",
    "        k = lsd.index(item)\n",
    "        totalFinishedArea = lsd[k+1]\n",
    "    if item == 'Appliances Included':\n",
    "        k = lsd.index(item)\n",
    "        appliancesIncluded = lsd[k+1]\n",
    "    if item == 'Foundation Type':\n",
    "        k = lsd.index(item)\n",
    "        foundationType = lsd[k+1]\n",
    "    if item == 'Style':\n",
    "        k = lsd.index(item)\n",
    "        style = lsd[k+1]\n",
    "    if item == 'Architecture Style':\n",
    "        k = lsd.index(item)\n",
    "        architectureStyle = lsd[k+1]\n",
    "    if item == 'Basement Type':\n",
    "        k = lsd.index(item)\n",
    "        basementType = lsd[k+1]\n",
    "obj.extend([totalFinishedArea, appliancesIncluded, foundationType, style, architectureStyle, basementType])\n",
    "obj.extend(lsd)\n",
    "# writing in the CSV file\n",
    "csv_name = \"Realtor_RealEstatePage_JP2.csv\"\n",
    "with open(csv_name, 'a', newline='') as f_object:\n",
    "    writer_object = writer(f_object)\n",
    "    writer_object.writerow(obj)\n",
    "    f_object.close()\n",
    "print(obj)"
   ]
  },
  {
   "cell_type": "code",
   "execution_count": 58,
   "id": "8c83b4a1",
   "metadata": {},
   "outputs": [],
   "source": [
    "driver.quit()"
   ]
  }
 ],
 "metadata": {
  "kernelspec": {
   "display_name": "Python 3 (ipykernel)",
   "language": "python",
   "name": "python3"
  },
  "language_info": {
   "codemirror_mode": {
    "name": "ipython",
    "version": 3
   },
   "file_extension": ".py",
   "mimetype": "text/x-python",
   "name": "python",
   "nbconvert_exporter": "python",
   "pygments_lexer": "ipython3",
   "version": "3.9.7"
  }
 },
 "nbformat": 4,
 "nbformat_minor": 5
}
