{
 "cells": [
  {
   "cell_type": "code",
   "execution_count": 2,
   "id": "e5c2f6a9",
   "metadata": {},
   "outputs": [],
   "source": [
    "from json.tool import main\n",
    "from selenium import webdriver\n",
    "from selenium.webdriver.common.keys import Keys\n",
    "from selenium.webdriver.common.by import By\n",
    "from selenium.webdriver.support.ui import WebDriverWait\n",
    "from selenium.webdriver.support import expected_conditions as EC\n",
    "import time\n",
    "import csv"
   ]
  },
  {
   "cell_type": "code",
   "execution_count": 3,
   "id": "abbed71d",
   "metadata": {},
   "outputs": [
    {
     "name": "stderr",
     "output_type": "stream",
     "text": [
      "C:\\Users\\JPASHAMI\\AppData\\Local\\Temp/ipykernel_21116/703519545.py:2: DeprecationWarning: executable_path has been deprecated, please pass in a Service object\n",
      "  driver = webdriver.Chrome(PATH)\n"
     ]
    }
   ],
   "source": [
    "PATH = \"C:\\Program Files (x86)\\chromedriver.exe\"\n",
    "driver = webdriver.Chrome(PATH)\n",
    "driver.get(\"https://www.realtor.ca/ns/halifax/real-estate\")"
   ]
  },
  {
   "cell_type": "code",
   "execution_count": 5,
   "id": "536741a6",
   "metadata": {},
   "outputs": [],
   "source": [
    "listCard = WebDriverWait(driver, 10).until(\n",
    "        EC.presence_of_element_located((By.ID, \"listInnerCon\"))\n",
    "    )\n",
    "articles = listCard.find_elements(by=By.CLASS_NAME, value=\"cardCon\")"
   ]
  },
  {
   "cell_type": "code",
   "execution_count": 20,
   "id": "596fbf65",
   "metadata": {},
   "outputs": [
    {
     "data": {
      "text/plain": [
       "51"
      ]
     },
     "execution_count": 20,
     "metadata": {},
     "output_type": "execute_result"
    }
   ],
   "source": []
  },
  {
   "cell_type": "code",
   "execution_count": 28,
   "id": "33655fbb",
   "metadata": {},
   "outputs": [
    {
     "name": "stdout",
     "output_type": "stream",
     "text": [
      "['3 hours ago', '$1,049,000', '2053 Oxford Street, Halifax, Nova Scotia', '4 + 0', 'Bedrooms', '3', 'Bathrooms', 'Royal LePage Atlantic']\n",
      "['18 hours ago', '$384,500', '532 94 Moirs Mill Road, Bedford, Nova Scotia', '2 + 0', 'Bedrooms', '2', 'Bathrooms', 'Royal LePage Atlantic']\n",
      "['18 hours ago', '$399,900', '11 Walter Havill Drive, Halifax, Nova Scotia', '3 + 1', 'Bedrooms', '2', 'Bathrooms', 'BORDEN REAL ESTATE LIMITED - A586']\n",
      "['17 hours ago', '$485,000', '94 Bedford Hills Road, Bedford, Bedford, Nova Scotia', '4 + 0', 'Bedrooms', '3', 'Bathrooms', 'Royal LePage Atlantic']\n",
      "['20 hours ago', '$449,900', '2 Spray Avenue, Head Of St. Margarets Bay, Nova Scotia', '3 + 1', 'Bedrooms', '3', 'Bathrooms', 'Keller Williams Select Realty']\n",
      "['20 hours ago', '$399,900', '53 Acres Road, Williamswood, Nova Scotia', '3 + 2', 'Bedrooms', '2', 'Bathrooms', 'Exit Real Estate Professionals']\n",
      "['19 hours ago', '$123,456', '390 Windmill Road, Dartmouth, Nova Scotia', 'INNOVATIVE REAL ESTATE LTD - A507']\n",
      "['22 hours ago', '$359,900', '39 Lynn Drive, Dartmouth, Nova Scotia', '3 + 0', 'Bedrooms', '1', 'Bathrooms', 'HaliPad Real Estate Inc.']\n",
      "['22 hours ago', '$309,900', '510 3700 John Parr Drive, Halifax, Nova Scotia', '1 + 0', 'Bedrooms', '1', 'Bathrooms', 'RE/MAX Nova']\n",
      "['23 hours ago', '$529,000', '11 Robina Drive, Lake Echo, Nova Scotia', '2 + 1', 'Bedrooms', '3', 'Bathrooms', 'Red and White Realty NS Inc.']\n",
      "['Feb', '26', '22 hours ago', '$539,000', '123 Basinview Drive, Bedford, Nova Scotia', '3 + 1', 'Bedrooms', '2', 'Bathrooms', 'Royal LePage Atlantic']\n",
      "['1 day ago', '$595,000', '78 Wilcot Lane, Dartmouth, Nova Scotia', '3 + 2', 'Bedrooms', '3', 'Bathrooms', 'Royal LePage Atlantic']\n"
     ]
    }
   ],
   "source": [
    "csv_file = open('RealtorCa_scrape.csv', 'w')\n",
    "csv_writer = csv.writer(csv_file)\n",
    "csv_writer.writerow(['TimeOnRealtorTag', 'Price', 'Address', 'Bedrooms','Bathrooms'])\n",
    "for article in articles:\n",
    "        CardArray = article.text\n",
    "        CardArray = CardArray.split('\\n')\n",
    "        TimeOnRealtorTag = CardArray[0]\n",
    "        Price = CardArray[1]\n",
    "        Address = CardArray[2]\n",
    "        Bedrooms = CardArray[3]\n",
    "        #Bathrooms = CardArray[5] \n",
    "        csv_writer.writerow([TimeOnRealtorTag, Price, Address, Bedrooms, Bathrooms])\n",
    "        print(CardArray)\n",
    "csv_file.close()"
   ]
  },
  {
   "cell_type": "code",
   "execution_count": 32,
   "id": "8c83b4a1",
   "metadata": {},
   "outputs": [
    {
     "name": "stdout",
     "output_type": "stream",
     "text": [
      "3 hours ago\n",
      "$1,049,000\n",
      "2053 Oxford Street, Halifax, Nova Scotia\n",
      "4 + 0\n",
      "Bedrooms\n",
      "3\n",
      "Bathrooms\n",
      "Royal LePage Atlantic\n",
      "18 hours ago\n",
      "$384,500\n",
      "532 94 Moirs Mill Road, Bedford, Nova Scotia\n",
      "2 + 0\n",
      "Bedrooms\n",
      "2\n",
      "Bathrooms\n",
      "Royal LePage Atlantic\n",
      "18 hours ago\n",
      "$399,900\n",
      "11 Walter Havill Drive, Halifax, Nova Scotia\n",
      "3 + 1\n",
      "Bedrooms\n",
      "2\n",
      "Bathrooms\n",
      "BORDEN REAL ESTATE LIMITED - A586\n",
      "17 hours ago\n",
      "$485,000\n",
      "94 Bedford Hills Road, Bedford, Bedford, Nova Scotia\n",
      "4 + 0\n",
      "Bedrooms\n",
      "3\n",
      "Bathrooms\n",
      "Royal LePage Atlantic\n",
      "20 hours ago\n",
      "$449,900\n",
      "2 Spray Avenue, Head Of St. Margarets Bay, Nova Scotia\n",
      "3 + 1\n",
      "Bedrooms\n",
      "3\n",
      "Bathrooms\n",
      "Keller Williams Select Realty\n",
      "20 hours ago\n",
      "$399,900\n",
      "53 Acres Road, Williamswood, Nova Scotia\n",
      "3 + 2\n",
      "Bedrooms\n",
      "2\n",
      "Bathrooms\n",
      "Exit Real Estate Professionals\n",
      "19 hours ago\n",
      "$123,456\n",
      "390 Windmill Road, Dartmouth, Nova Scotia\n",
      "INNOVATIVE REAL ESTATE LTD - A507\n",
      "22 hours ago\n",
      "$359,900\n",
      "39 Lynn Drive, Dartmouth, Nova Scotia\n",
      "3 + 0\n",
      "Bedrooms\n",
      "1\n",
      "Bathrooms\n",
      "HaliPad Real Estate Inc.\n",
      "22 hours ago\n",
      "$309,900\n",
      "510 3700 John Parr Drive, Halifax, Nova Scotia\n",
      "1 + 0\n",
      "Bedrooms\n",
      "1\n",
      "Bathrooms\n",
      "RE/MAX Nova\n",
      "23 hours ago\n",
      "$529,000\n",
      "11 Robina Drive, Lake Echo, Nova Scotia\n",
      "2 + 1\n",
      "Bedrooms\n",
      "3\n",
      "Bathrooms\n",
      "Red and White Realty NS Inc.\n",
      "Feb\n",
      "26\n",
      "22 hours ago\n",
      "$539,000\n",
      "123 Basinview Drive, Bedford, Nova Scotia\n",
      "3 + 1\n",
      "Bedrooms\n",
      "2\n",
      "Bathrooms\n",
      "Royal LePage Atlantic\n",
      "1 day ago\n",
      "$595,000\n",
      "78 Wilcot Lane, Dartmouth, Nova Scotia\n",
      "3 + 2\n",
      "Bedrooms\n",
      "3\n",
      "Bathrooms\n",
      "Royal LePage Atlantic\n"
     ]
    }
   ],
   "source": [
    "for article in articles:\n",
    "        print(article.text)"
   ]
  },
  {
   "cell_type": "code",
   "execution_count": null,
   "id": "0d6490c9",
   "metadata": {},
   "outputs": [],
   "source": []
  }
 ],
 "metadata": {
  "kernelspec": {
   "display_name": "Python 3 (ipykernel)",
   "language": "python",
   "name": "python3"
  },
  "language_info": {
   "codemirror_mode": {
    "name": "ipython",
    "version": 3
   },
   "file_extension": ".py",
   "mimetype": "text/x-python",
   "name": "python",
   "nbconvert_exporter": "python",
   "pygments_lexer": "ipython3",
   "version": "3.9.7"
  }
 },
 "nbformat": 4,
 "nbformat_minor": 5
}
