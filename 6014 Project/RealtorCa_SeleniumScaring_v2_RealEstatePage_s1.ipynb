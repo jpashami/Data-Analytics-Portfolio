{
 "cells": [
  {
   "cell_type": "code",
   "execution_count": 1,
   "id": "e5c2f6a9",
   "metadata": {},
   "outputs": [],
   "source": [
    "from json.tool import main\n",
    "from selenium import webdriver\n",
    "from selenium.webdriver.common.keys import Keys\n",
    "from selenium.webdriver.common.by import By\n",
    "from selenium.webdriver.support.ui import WebDriverWait\n",
    "from selenium.webdriver.support import expected_conditions as EC\n",
    "import time\n",
    "import csv"
   ]
  },
  {
   "cell_type": "code",
   "execution_count": 2,
   "id": "abbed71d",
   "metadata": {},
   "outputs": [
    {
     "name": "stderr",
     "output_type": "stream",
     "text": [
      "C:\\Users\\JPASHAMI\\AppData\\Local\\Temp/ipykernel_13472/815016262.py:2: DeprecationWarning: executable_path has been deprecated, please pass in a Service object\n",
      "  driver = webdriver.Chrome(PATH)\n"
     ]
    }
   ],
   "source": [
    "PATH = \"C:\\Program Files (x86)\\chromedriver.exe\"\n",
    "driver = webdriver.Chrome(PATH)\n",
    "driver.get(\"https://www.realtor.ca/real-estate/24147371/235-taylor-drive-extension-nictaux-nictaux\")"
   ]
  },
  {
   "cell_type": "code",
   "execution_count": 4,
   "id": "86b64643",
   "metadata": {},
   "outputs": [
    {
     "name": "stdout",
     "output_type": "stream",
     "text": [
      "54 min ago\n",
      "$349,900\n",
      "Favourite\n",
      "92 Charlotteown Way\n",
      "Woodside, Nova Scotia B2W0B6\n",
      "MLS® Number: 202204339\n",
      "3 + 0\n",
      "Bedrooms\n",
      "1\n",
      "Bathrooms\n",
      "Do I qualify for the First-Time Home Buyer Incentive?\n",
      "Learn More\n"
     ]
    }
   ],
   "source": [
    "listingDetailsTopCon = driver.find_element(by=By.ID, value=\"listingDetailsTopCon\")\n",
    "print(listingDetailsTopCon.text)"
   ]
  },
  {
   "cell_type": "code",
   "execution_count": 4,
   "id": "536741a6",
   "metadata": {},
   "outputs": [
    {
     "name": "stdout",
     "output_type": "stream",
     "text": [
      "Nice quiet location tucked away on 1.41 acres, property is fenced and would make a fantastic spot for a few chickens and couple of goats. Raised garden planters to grow your own food. The kitchen features lovely hardwood kitchen cabinets, open concept dining and living room, 4 bedrooms plus a den with direct access to the outside. Most windows recently replaced with new vinyl windows, new electrical entrance and wiring brought to code in 2017, roof reshingled in 2018. Basement is partially finished but not included in the square footage, laminate flooring to remain for buyer to complete the installation. Outside is a small barn, shed and 2 other small outbuildings. (226351667)\n"
     ]
    }
   ],
   "source": [
    "propertyDescriptionCon = driver.find_element(by=By.ID, value=\"propertyDescriptionCon\")\n",
    "print(propertyDescriptionCon.text)"
   ]
  },
  {
   "cell_type": "code",
   "execution_count": 5,
   "id": "596fbf65",
   "metadata": {},
   "outputs": [
    {
     "name": "stdout",
     "output_type": "stream",
     "text": [
      "Property Summary\n",
      "Property Type\n",
      "Single Family\n",
      "Building Type\n",
      "House\n",
      "Storeys\n",
      "1\n",
      "Community Name\n",
      "Nictaux\n",
      "Title\n",
      "Freehold\n",
      "Land Size\n",
      "1 - 3 acres\n",
      "Built in\n",
      "1972\n",
      "Time on REALTOR.ca\n",
      "10 hours\n"
     ]
    }
   ],
   "source": [
    "PropertySummary = driver.find_element(by=By.ID, value=\"PropertySummary\")\n",
    "print(PropertySummary.text)"
   ]
  },
  {
   "cell_type": "code",
   "execution_count": 10,
   "id": "e05ef2ff",
   "metadata": {},
   "outputs": [
    {
     "ename": "AttributeError",
     "evalue": "'WebElement' object has no attribute 'split'",
     "output_type": "error",
     "traceback": [
      "\u001b[1;31m---------------------------------------------------------------------------\u001b[0m",
      "\u001b[1;31mAttributeError\u001b[0m                            Traceback (most recent call last)",
      "\u001b[1;32m~\\AppData\\Local\\Temp/ipykernel_16476/3427242876.py\u001b[0m in \u001b[0;36m<module>\u001b[1;34m\u001b[0m\n\u001b[1;32m----> 1\u001b[1;33m \u001b[0mPropertySummary_split\u001b[0m \u001b[1;33m=\u001b[0m \u001b[0mPropertySummary\u001b[0m\u001b[1;33m.\u001b[0m\u001b[0msplit\u001b[0m\u001b[1;33m(\u001b[0m\u001b[1;34m'\\n'\u001b[0m\u001b[1;33m)\u001b[0m\u001b[1;33m\u001b[0m\u001b[1;33m\u001b[0m\u001b[0m\n\u001b[0m\u001b[0;32m      2\u001b[0m \u001b[0mprint\u001b[0m\u001b[1;33m(\u001b[0m\u001b[1;34m'PropertySummary_split'\u001b[0m\u001b[1;33m)\u001b[0m\u001b[1;33m\u001b[0m\u001b[1;33m\u001b[0m\u001b[0m\n",
      "\u001b[1;31mAttributeError\u001b[0m: 'WebElement' object has no attribute 'split'"
     ]
    }
   ],
   "source": [
    "PropertySummary_split = PropertySummary.split('\\n')\n",
    "print('PropertySummary_split')"
   ]
  },
  {
   "cell_type": "code",
   "execution_count": 8,
   "id": "ecb20ed6",
   "metadata": {},
   "outputs": [
    {
     "name": "stdout",
     "output_type": "stream",
     "text": [
      "Price History\n",
      "Date Status Price\n",
      "May 31, 2018 Sold $130,000\n"
     ]
    }
   ],
   "source": [
    "PriceHistory = driver.find_element(by=By.ID, value=\"historyDetailSection\")\n",
    "print(PriceHistory.text)"
   ]
  },
  {
   "cell_type": "code",
   "execution_count": 6,
   "id": "153308f0",
   "metadata": {},
   "outputs": [
    {
     "name": "stdout",
     "output_type": "stream",
     "text": [
      "Building\n",
      "Bedrooms\n",
      "Above Grade\n",
      "4\n",
      "Bathrooms\n",
      "Total\n",
      "1\n",
      "Partial\n",
      "0\n",
      "Interior Features\n",
      "Appliances Included\n",
      "Range - Gas, Dishwasher, Dryer - Electric, Washer, Freezer, Refrigerator\n",
      "Flooring\n",
      "Ceramic Tile, Laminate, Vinyl\n",
      "Basement Features\n",
      "Walk out\n",
      "Basement Type\n",
      "Partial (Partially finished)\n",
      "Building Features\n",
      "Features\n",
      "Level\n",
      "Foundation Type\n",
      "Concrete Block\n",
      "Style\n",
      "Detached\n",
      "Architecture Style\n",
      "Character\n",
      "Total Finished Area\n",
      "1248 sqft\n",
      "Rental Equipment\n",
      "Propane Tank\n",
      "Structures\n",
      "Shed\n",
      "Heating & Cooling\n",
      "Cooling\n",
      "Heat Pump\n",
      "Utilities\n",
      "Utility Sewer\n",
      "Septic System\n",
      "Water\n",
      "Drilled Well\n",
      "Exterior Features\n",
      "Exterior Finish\n",
      "Vinyl\n",
      "Neighbourhood Features\n",
      "Community Features\n",
      "School Bus\n",
      "Amenities Nearby\n",
      "Place of Worship\n"
     ]
    }
   ],
   "source": [
    "listingDetailsBuildingCon = driver.find_element(by=By.ID, value=\"listingDetailsBuildingCon\")\n",
    "print(listingDetailsBuildingCon.text)"
   ]
  },
  {
   "cell_type": "code",
   "execution_count": 7,
   "id": "965979de",
   "metadata": {},
   "outputs": [
    {
     "name": "stdout",
     "output_type": "stream",
     "text": [
      "Rooms\n",
      "Metric\n",
      "•\n",
      "Imperial\n",
      "Main level Foyer\n",
      "5.5 x 11.2\n",
      "Kitchen\n",
      "10.4 x 11.1\n",
      "Dining room\n",
      "11.2 x 11.1\n",
      "Living room\n",
      "11.7 x 12.4\n",
      "Bedroom\n",
      "10 x 11.4\n",
      "Bedroom\n",
      "11.9 x 8.4\n",
      "Bedroom\n",
      "8.6 x 8.2\n",
      "Bedroom\n",
      "11 x 9.8\n",
      "Den\n",
      "11.3 x 11.4\n",
      "Bath (# pieces 1-6)\n",
      "4pc\n",
      "Basement Recreational, Games room\n",
      "34 x 10.3 partially finished\n"
     ]
    }
   ],
   "source": [
    "propertyDetailsRoomsSection = driver.find_element(by=By.ID, value=\"propertyDetailsRoomsSection\")\n",
    "print(propertyDetailsRoomsSection.text)"
   ]
  },
  {
   "cell_type": "code",
   "execution_count": 5,
   "id": "8c83b4a1",
   "metadata": {},
   "outputs": [],
   "source": [
    "driver.quit()"
   ]
  }
 ],
 "metadata": {
  "kernelspec": {
   "display_name": "Python 3 (ipykernel)",
   "language": "python",
   "name": "python3"
  },
  "language_info": {
   "codemirror_mode": {
    "name": "ipython",
    "version": 3
   },
   "file_extension": ".py",
   "mimetype": "text/x-python",
   "name": "python",
   "nbconvert_exporter": "python",
   "pygments_lexer": "ipython3",
   "version": "3.9.7"
  }
 },
 "nbformat": 4,
 "nbformat_minor": 5
}
