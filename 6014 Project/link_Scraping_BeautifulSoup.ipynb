{
 "cells": [
  {
   "cell_type": "code",
   "execution_count": 10,
   "id": "9df0b562",
   "metadata": {},
   "outputs": [
    {
     "name": "stdout",
     "output_type": "stream",
     "text": [
      "['#mainPageContent', '/', '/', '/?siteLocale=fr_CA', '/t-user-registration.html?targetUrl=L2ItZm9yLXNhbGUvbm92YS1zY290aWEvYzMwMzUzMDAxbDkwMDJeZzliQWV3b0VFWU4xWWZyZEhlUllUdz09', '/t-login.html?targetUrl=L2ItZm9yLXNhbGUvbm92YS1zY290aWEvYzMwMzUzMDAxbDkwMDJeZzliQWV3b0VFWU4xWWZyZEhlUllUdz09', '/p-select-category.html', 'https://www.kijiji.ca/h-nova-scotia/9002', 'https://www.kijiji.ca/b-real-estate/nova-scotia/c34l9002?ad=offering', '/b-house-for-sale/nova-scotia/c35l9002', '/b-condo-for-sale/nova-scotia/c643l9002', '/b-land-for-sale/nova-scotia/c641l9002', '/b-commercial-office-space-for-sale/nova-scotia/c44l9002', '/p-select-category.html?categoryId=30353001', 'https://help.kijiji.ca/performance/TopAd', '/b-for-sale/nova-scotia/c30353001l9002?ad=offering&gpTopAds=y', '/v-house-for-sale/truro/horse-barn-ranch-for-sale/1609017080', '/v-house-for-sale/cape-breton/upgraded-house-for-private-sale/1610771451', '/v-house-for-sale/cape-breton/upgraded-house-for-private-sale/1610770403', '/v-land-for-sale/city-of-halifax/looking-for-land-min-10000-sqft-sackville-halifax-dartmouth/1610764038', '/v-house-for-sale/cape-breton/mobile-home-for-sale-please-read-ad/1610763743', '/b-for-sale/nova-scotia/mini-home/k0c30353001l9002', '/b-for-sale/nova-scotia/waterfront/k0c30353001l9002', '/b-for-sale/nova-scotia/cottage/k0c30353001l9002', '/b-for-sale/nova-scotia/mobile-home/k0c30353001l9002', '/b-for-sale/nova-scotia/land/k0c30353001l9002', '/b-land-for-sale/nova-scotia/c641l9002', '/b-house-for-sale/nova-scotia/c35l9002', '/b-for-sale/nova-scotia/house/k0c30353001l9002', '/b-for-sale/nova-scotia/oceanfront/k0c30353001l9002', '/b-for-sale/nova-scotia/cabin/k0c30353001l9002', '/b-for-sale/nova-scotia/c30353001l9002?ad=offering', '/b-for-sale/annapolis-valley/c30353001l1700256?ad=offering', '/b-for-sale/bridgewater/c30353001l1700257?ad=offering', '/b-for-sale/cape-breton/c30353001l1700011?ad=offering', '/b-for-sale/halifax/c30353001l80010?ad=offering', '/b-for-sale/new-glasgow-ns/c30353001l1700258?ad=offering', '/b-for-sale/truro/c30353001l1700047?ad=offering', '/b-for-sale/yarmouth/c30353001l1700259?ad=offering', '/v-house-for-sale/bedford/looking-for-private-sale-lakefront-grand-lake/1610754610', '/v-land-for-sale/cape-breton/off-grid-wilderness-retreat/1610753923', '/v-house-for-sale/truro/camp-cottage/1610752572', '/v-house-for-sale/cape-breton/immaculate-4-bed-2-bath-home-close-to-all-amenities/1608626640', '/v-land-for-sale/truro/land-for-sale-lot-56-appalosa-trail/1610745148', '/v-house-for-sale/annapolis-valley/house-with-50-acres/1610743339', '/v-commercial-office-space-for-sale/truro/recently-renovated-commercial-building/1604000224', '/v-house-for-sale/annapolis-valley/1123-percy-court-aylesford-nova-scotia/1610736467', '/v-house-for-sale/annapolis-valley/5165-highway-201-west-paradise-nova-scotia/1610735399', '/v-house-for-sale/yarmouth/113-north-wrights-lake-road-doucetteville-nova-scotia/1610733332', '/v-house-for-sale/yarmouth/homes-for-sale-in-grosses-coques-clare-nova-scotia-239-000/1610729372', '/v-house-for-sale/yarmouth/105-roseway-drive/1610723336', '/v-house-for-sale/yarmouth/5448-1-highway/1610723341', '/v-house-for-sale/annapolis-valley/2014-hampton-mountain-road/1610723326', '/v-house-for-sale/annapolis-valley/763-rocknotch-road-greenwood-nova-scotia/1610727900', '/v-house-for-sale/annapolis-valley/222-lakeside-drive-springfield-nova-scotia/1610732092', '/v-house-for-sale/new-glasgow-ns/4821-hwy-316-lower-south-river-highway-lower-south-river/1610723367', '/v-house-for-sale/bridgewater/1-brooklyn-shore-road-brooklyn-nova-scotia/1610725532', '/v-house-for-sale/yarmouth/1173-highway-3/1610728955', '/v-house-for-sale/yarmouth/1741-west-sable-road/1610723334', '/v-house-for-sale/annapolis-valley/1-mckenzie-drive/1610723358', '/v-condo-for-sale/city-of-halifax/1607-5959-spring-garden-road-halifax-nova-scotia/1610731731', '/v-house-for-sale/yarmouth/1-2-471-main-street/1610723343', '/v-house-for-sale/bridgewater/430-main-street-mahone-bay-nova-scotia/1610731603', '/v-house-for-sale/annapolis-valley/14-marilyn-court-kingston-nova-scotia/1610728467', '/v-house-for-sale/annapolis-valley/515-bluenose-avenue/1610723338', '/v-house-for-sale/yarmouth/2132-sandy-point-road/1610723363', '/v-house-for-sale/bridgewater/1299-king-street/1610723354', '/v-house-for-sale/bridgewater/73-scotia-street/1610723310', '/v-house-for-sale/annapolis-valley/homes-for-sale-in-smiths-cove-nova-scotia-225-000/1610723398', '/v-house-for-sale/annapolis-valley/52-masters-avenue/1610728975', '/v-house-for-sale/annapolis-valley/22-alden-hubley-road/1610723353', '/v-house-for-sale/bridgewater/271-green-street/1610723362', '/v-house-for-sale/bridgewater/271-green-street-lunenburg-nova-scotia/1610731000', '/v-house-for-sale/yarmouth/2302-hwy-1/1610728944', '/v-house-for-sale/annapolis-valley/1135-ward-road/1610723331', '/b-for-sale/nova-scotia/page-2/c30353001l9002?ad=offering', '/b-for-sale/nova-scotia/page-3/c30353001l9002?ad=offering', '/b-for-sale/nova-scotia/page-4/c30353001l9002?ad=offering', '/b-for-sale/nova-scotia/page-5/c30353001l9002?ad=offering', '/b-for-sale/nova-scotia/page-6/c30353001l9002?ad=offering', '/b-for-sale/nova-scotia/page-7/c30353001l9002?ad=offering', '/b-for-sale/nova-scotia/page-8/c30353001l9002?ad=offering', '/b-for-sale/nova-scotia/page-9/c30353001l9002?ad=offering', '/b-for-sale/nova-scotia/page-10/c30353001l9002?ad=offering', '/b-for-sale/nova-scotia/page-2/c30353001l9002?ad=offering', '/rss-srp-for-sale/nova-scotia/c30353001l9002?ad=offering', '', '#', 'https://www.kijiji.ca/kijijicentral/general/about-us/?utm_source=Kijiji&utm_medium=Footer', 'https://jobs.ebayclassifiedsgroup.com/', 'https://help.kijiji.ca/helpdesk/basics/benefits-of-registering', 'https://business.kijiji.ca', 'https://www.kijijiautos.ca/?utm_source=kijiji&utm_medium=referral&utm_campaign=footer', 'https://www.kijiji.ca/kijijicentral/?utm_source=Kijiji&utm_medium=Footer', 'https://help.kijiji.ca/performance?utm_source=Kijiji&utm_medium=footer', 'https://help.kijiji.ca/helpdesk/policies/kijiji-terms-of-use', 'https://help.kijiji.ca/helpdesk/policies/kijiji-privacy-policy', 'https://help.kijiji.ca/helpdesk/policies/posting-policies', 'https://help.kijiji.ca/helpdesk/policies/kijiji-privacy-policy', 'https://help.kijiji.ca/helpdesk/', '?siteLocale=fr_CA', 'https://help.kijiji.ca/helpdesk/policies/multi-year-accessibility-plan', 'https://itunes.apple.com/ca/app/kijiji-free-local-classifieds/id318979520', 'https://play.google.com/store/apps/details?id=com.ebay.kijiji.ca', 'https://www.facebook.com/Kijiji.ca', 'https://www.instagram.com/kijijicanada/', 'https://twitter.com/Kijiji', 'https://www.kijiji.ca/kijijicentral/?utm_source=Kijiji&utm_medium=FooterIcon', 'https://www.youtube.com/kijijicanadacorp']\n"
     ]
    }
   ],
   "source": [
    "from bs4 import BeautifulSoup\n",
    "from urllib.request import Request, urlopen\n",
    "import re\n",
    "\n",
    "req = Request(\"https://www.kijiji.ca/b-for-sale/nova-scotia/c30353001l9002\")\n",
    "html_page = urlopen(req)\n",
    "\n",
    "soup = BeautifulSoup(html_page, \"lxml\")\n",
    "\n",
    "links = []\n",
    "linkRep = []\n",
    "i=0\n",
    "for link in soup.findAll('a'):\n",
    "    links.append(link.get('href'))\n",
    "    #linkRep[i]= link.get('href')\n",
    "    #i = i + 1\n",
    "print(links)"
   ]
  },
  {
   "cell_type": "code",
   "execution_count": 3,
   "id": "edd915e4",
   "metadata": {},
   "outputs": [
    {
     "name": "stdout",
     "output_type": "stream",
     "text": [
      "/t-user-registration.html?targetUrl=L2ItZm9yLXNhbGUvbm92YS1zY290aWEvYzMwMzUzMDAxbDkwMDJeZzliQWV3b0VFWU4xWWZyZEhlUllUdz09\n"
     ]
    }
   ],
   "source": [
    "print(links[4])"
   ]
  },
  {
   "cell_type": "code",
   "execution_count": 4,
   "id": "6b1b0dbd",
   "metadata": {},
   "outputs": [],
   "source": [
    "import time\n",
    "import csv"
   ]
  },
  {
   "cell_type": "code",
   "execution_count": 8,
   "id": "79bcc7d3",
   "metadata": {},
   "outputs": [
    {
     "name": "stdout",
     "output_type": "stream",
     "text": [
      "#mainPageContent\n",
      "/\n",
      "/\n",
      "/?siteLocale=fr_CA\n",
      "/t-user-registration.html?targetUrl=L2ItZm9yLXNhbGUvbm92YS1zY290aWEvYzMwMzUzMDAxbDkwMDJeZzliQWV3b0VFWU4xWWZyZEhlUllUdz09\n",
      "/t-login.html?targetUrl=L2ItZm9yLXNhbGUvbm92YS1zY290aWEvYzMwMzUzMDAxbDkwMDJeZzliQWV3b0VFWU4xWWZyZEhlUllUdz09\n",
      "/p-select-category.html\n",
      "https://www.kijiji.ca/h-nova-scotia/9002\n",
      "https://www.kijiji.ca/b-real-estate/nova-scotia/c34l9002?ad=offering\n",
      "/b-house-for-sale/nova-scotia/c35l9002\n",
      "/b-condo-for-sale/nova-scotia/c643l9002\n",
      "/b-land-for-sale/nova-scotia/c641l9002\n",
      "/b-commercial-office-space-for-sale/nova-scotia/c44l9002\n",
      "/p-select-category.html?categoryId=30353001\n",
      "https://help.kijiji.ca/performance/TopAd\n",
      "/b-for-sale/nova-scotia/c30353001l9002?ad=offering&gpTopAds=y\n",
      "/v-house-for-sale/truro/horse-barn-ranch-for-sale/1609017080\n",
      "/v-land-for-sale/city-of-halifax/looking-for-land-min-10000-sqft-sackville-halifax-dartmouth/1610764038\n",
      "/v-house-for-sale/cape-breton/mobile-home-for-sale-please-read-ad/1610763743\n",
      "/v-house-for-sale/bedford/looking-for-private-sale-lakefront-grand-lake/1610754610\n",
      "/v-land-for-sale/cape-breton/off-grid-wilderness-retreat/1610753923\n",
      "/b-for-sale/nova-scotia/mini-home/k0c30353001l9002\n",
      "/b-for-sale/nova-scotia/waterfront/k0c30353001l9002\n",
      "/b-for-sale/nova-scotia/cottage/k0c30353001l9002\n",
      "/b-for-sale/nova-scotia/mobile-home/k0c30353001l9002\n",
      "/b-for-sale/nova-scotia/land/k0c30353001l9002\n",
      "/b-land-for-sale/nova-scotia/c641l9002\n",
      "/b-house-for-sale/nova-scotia/c35l9002\n",
      "/b-for-sale/nova-scotia/house/k0c30353001l9002\n",
      "/b-for-sale/nova-scotia/oceanfront/k0c30353001l9002\n",
      "/b-for-sale/nova-scotia/cabin/k0c30353001l9002\n",
      "/b-for-sale/nova-scotia/c30353001l9002?ad=offering\n",
      "/b-for-sale/annapolis-valley/c30353001l1700256?ad=offering\n",
      "/b-for-sale/bridgewater/c30353001l1700257?ad=offering\n",
      "/b-for-sale/cape-breton/c30353001l1700011?ad=offering\n",
      "/b-for-sale/halifax/c30353001l80010?ad=offering\n",
      "/b-for-sale/new-glasgow-ns/c30353001l1700258?ad=offering\n",
      "/b-for-sale/truro/c30353001l1700047?ad=offering\n",
      "/b-for-sale/yarmouth/c30353001l1700259?ad=offering\n",
      "/v-house-for-sale/truro/camp-cottage/1610752572\n",
      "/v-house-for-sale/cape-breton/immaculate-4-bed-2-bath-home-close-to-all-amenities/1608626640\n",
      "/v-land-for-sale/truro/land-for-sale-lot-56-appalosa-trail/1610745148\n",
      "/v-house-for-sale/annapolis-valley/house-with-50-acres/1610743339\n",
      "/v-commercial-office-space-for-sale/truro/recently-renovated-commercial-building/1604000224\n",
      "/v-house-for-sale/annapolis-valley/1123-percy-court-aylesford-nova-scotia/1610736467\n",
      "/v-house-for-sale/annapolis-valley/5165-highway-201-west-paradise-nova-scotia/1610735399\n",
      "/v-house-for-sale/yarmouth/113-north-wrights-lake-road-doucetteville-nova-scotia/1610733332\n",
      "/v-house-for-sale/yarmouth/homes-for-sale-in-grosses-coques-clare-nova-scotia-239-000/1610729372\n",
      "/v-house-for-sale/yarmouth/105-roseway-drive/1610723336\n",
      "/v-house-for-sale/yarmouth/5448-1-highway/1610723341\n",
      "/v-house-for-sale/annapolis-valley/2014-hampton-mountain-road/1610723326\n",
      "/v-house-for-sale/annapolis-valley/763-rocknotch-road-greenwood-nova-scotia/1610727900\n",
      "/v-house-for-sale/annapolis-valley/222-lakeside-drive-springfield-nova-scotia/1610732092\n",
      "/v-house-for-sale/new-glasgow-ns/4821-hwy-316-lower-south-river-highway-lower-south-river/1610723367\n",
      "/v-house-for-sale/bridgewater/1-brooklyn-shore-road-brooklyn-nova-scotia/1610725532\n",
      "/v-house-for-sale/yarmouth/1173-highway-3/1610728955\n",
      "/v-house-for-sale/yarmouth/1741-west-sable-road/1610723334\n",
      "/v-house-for-sale/annapolis-valley/1-mckenzie-drive/1610723358\n",
      "/v-condo-for-sale/city-of-halifax/1607-5959-spring-garden-road-halifax-nova-scotia/1610731731\n",
      "/v-house-for-sale/yarmouth/1-2-471-main-street/1610723343\n",
      "/v-house-for-sale/bridgewater/430-main-street-mahone-bay-nova-scotia/1610731603\n",
      "/v-house-for-sale/annapolis-valley/14-marilyn-court-kingston-nova-scotia/1610728467\n",
      "/v-house-for-sale/annapolis-valley/515-bluenose-avenue/1610723338\n",
      "/v-house-for-sale/yarmouth/2132-sandy-point-road/1610723363\n",
      "/v-house-for-sale/bridgewater/1299-king-street/1610723354\n",
      "/v-house-for-sale/bridgewater/73-scotia-street/1610723310\n",
      "/v-house-for-sale/annapolis-valley/homes-for-sale-in-smiths-cove-nova-scotia-225-000/1610723398\n",
      "/v-house-for-sale/annapolis-valley/52-masters-avenue/1610728975\n",
      "/v-house-for-sale/annapolis-valley/22-alden-hubley-road/1610723353\n",
      "/v-house-for-sale/bridgewater/271-green-street/1610723362\n",
      "/v-house-for-sale/bridgewater/271-green-street-lunenburg-nova-scotia/1610731000\n",
      "/v-house-for-sale/yarmouth/2302-hwy-1/1610728944\n",
      "/v-house-for-sale/annapolis-valley/1135-ward-road/1610723331\n",
      "/v-house-for-sale/yarmouth/53-brunswick-street/1610723327\n",
      "/v-house-for-sale/yarmouth/592-greenville-road/1610723305\n",
      "/b-for-sale/nova-scotia/page-2/c30353001l9002?ad=offering\n",
      "/b-for-sale/nova-scotia/page-3/c30353001l9002?ad=offering\n",
      "/b-for-sale/nova-scotia/page-4/c30353001l9002?ad=offering\n",
      "/b-for-sale/nova-scotia/page-5/c30353001l9002?ad=offering\n",
      "/b-for-sale/nova-scotia/page-6/c30353001l9002?ad=offering\n",
      "/b-for-sale/nova-scotia/page-7/c30353001l9002?ad=offering\n",
      "/b-for-sale/nova-scotia/page-8/c30353001l9002?ad=offering\n",
      "/b-for-sale/nova-scotia/page-9/c30353001l9002?ad=offering\n",
      "/b-for-sale/nova-scotia/page-10/c30353001l9002?ad=offering\n",
      "/b-for-sale/nova-scotia/page-2/c30353001l9002?ad=offering\n",
      "/rss-srp-for-sale/nova-scotia/c30353001l9002?ad=offering\n",
      "\n",
      "#\n",
      "https://www.kijiji.ca/kijijicentral/general/about-us/?utm_source=Kijiji&utm_medium=Footer\n",
      "https://jobs.ebayclassifiedsgroup.com/\n",
      "https://help.kijiji.ca/helpdesk/basics/benefits-of-registering\n",
      "https://business.kijiji.ca\n",
      "https://www.kijijiautos.ca/?utm_source=kijiji&utm_medium=referral&utm_campaign=footer\n",
      "https://www.kijiji.ca/kijijicentral/?utm_source=Kijiji&utm_medium=Footer\n",
      "https://help.kijiji.ca/performance?utm_source=Kijiji&utm_medium=footer\n",
      "https://help.kijiji.ca/helpdesk/policies/kijiji-terms-of-use\n",
      "https://help.kijiji.ca/helpdesk/policies/kijiji-privacy-policy\n",
      "https://help.kijiji.ca/helpdesk/policies/posting-policies\n",
      "https://help.kijiji.ca/helpdesk/policies/kijiji-privacy-policy\n",
      "https://help.kijiji.ca/helpdesk/\n",
      "?siteLocale=fr_CA\n",
      "https://help.kijiji.ca/helpdesk/policies/multi-year-accessibility-plan\n",
      "https://itunes.apple.com/ca/app/kijiji-free-local-classifieds/id318979520\n",
      "https://play.google.com/store/apps/details?id=com.ebay.kijiji.ca\n",
      "https://www.facebook.com/Kijiji.ca\n",
      "https://www.instagram.com/kijijicanada/\n",
      "https://twitter.com/Kijiji\n",
      "https://www.kijiji.ca/kijijicentral/?utm_source=Kijiji&utm_medium=FooterIcon\n",
      "https://www.youtube.com/kijijicanadacorp\n"
     ]
    }
   ],
   "source": [
    "csv_file = open('kijiji_RealStatelinks.csv', 'w', newline='')\n",
    "csv_writer = csv.writer(csv_file)\n",
    "csv_writer.writerow(['link'])\n",
    "for link in links: \n",
    "        csv_writer.writerow(['link'])\n",
    "        print(link)\n",
    "csv_file.close()"
   ]
  },
  {
   "cell_type": "code",
   "execution_count": null,
   "id": "8f54c8b2",
   "metadata": {},
   "outputs": [],
   "source": []
  }
 ],
 "metadata": {
  "kernelspec": {
   "display_name": "Python 3 (ipykernel)",
   "language": "python",
   "name": "python3"
  },
  "language_info": {
   "codemirror_mode": {
    "name": "ipython",
    "version": 3
   },
   "file_extension": ".py",
   "mimetype": "text/x-python",
   "name": "python",
   "nbconvert_exporter": "python",
   "pygments_lexer": "ipython3",
   "version": "3.9.7"
  }
 },
 "nbformat": 4,
 "nbformat_minor": 5
}
