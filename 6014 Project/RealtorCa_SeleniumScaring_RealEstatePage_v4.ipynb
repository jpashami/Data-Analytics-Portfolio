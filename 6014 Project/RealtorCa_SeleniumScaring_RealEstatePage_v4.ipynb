{
 "cells": [
  {
   "cell_type": "code",
   "execution_count": 54,
   "id": "e5c2f6a9",
   "metadata": {},
   "outputs": [],
   "source": [
    "from json.tool import main\n",
    "from selenium import webdriver\n",
    "from selenium.webdriver.common.keys import Keys\n",
    "from selenium.webdriver.common.by import By\n",
    "from selenium.webdriver.common.proxy import Proxy, ProxyType\n",
    "from selenium.webdriver.support.ui import WebDriverWait\n",
    "from selenium.webdriver.support import expected_conditions as EC\n",
    "import time\n",
    "from datetime import datetime\n",
    "import csv\n",
    "from csv import writer\n",
    "import pandas as pd"
   ]
  },
  {
   "cell_type": "code",
   "execution_count": 2,
   "id": "78c00688",
   "metadata": {},
   "outputs": [],
   "source": [
    "df = pd. read_csv('Realtorlinks_2022-03-16.csv', header =None, usecols=[0])"
   ]
  },
  {
   "cell_type": "code",
   "execution_count": 47,
   "id": "5c835bdf",
   "metadata": {},
   "outputs": [],
   "source": [
    "counter = 166"
   ]
  },
  {
   "cell_type": "code",
   "execution_count": 66,
   "id": "5626e3de",
   "metadata": {},
   "outputs": [
    {
     "name": "stdout",
     "output_type": "stream",
     "text": [
      "169.57.1.85:8123 faild!\n"
     ]
    }
   ],
   "source": [
    "proxy = '169.57.1.85:8123'\n",
    "url = 'http://httpbin.org/ip'\n",
    "#url = 'Realtor.ca'\n",
    "try:\n",
    "    r= requests.get(url, proxies={'http': proxy, 'https': proxy}, timeout = 30)\n",
    "    print(r.status_code)\n",
    "    print(r.json())\n",
    "except:\n",
    "    print(proxy, 'faild!')\n",
    "    pass"
   ]
  },
  {
   "cell_type": "code",
   "execution_count": 68,
   "id": "a35ec0fb",
   "metadata": {},
   "outputs": [],
   "source": [
    "proxy_ip_port = '169.57.1.85:8123'\n",
    "proxy = Proxy()\n",
    "proxy.proxy_type = ProxyType.MANUAL\n",
    "proxy.http_proxy = proxy_ip_port\n",
    "proxy.ssl_proxy = proxy_ip_port\n",
    "capabilities = webdriver.DesiredCapabilities.CHROME\n",
    "proxy.add_to_capabilities(capabilities)"
   ]
  },
  {
   "cell_type": "code",
   "execution_count": 69,
   "id": "1e01f33e",
   "metadata": {},
   "outputs": [
    {
     "name": "stdout",
     "output_type": "stream",
     "text": [
      "171\n",
      "https://www.realtor.ca/real-estate/24103461/198-rockcliffe-drive-enfield-enfield\n"
     ]
    },
    {
     "name": "stderr",
     "output_type": "stream",
     "text": [
      "C:\\Users\\JPASHAMI\\AppData\\Local\\Temp/ipykernel_13936/3851662956.py:6: DeprecationWarning: executable_path has been deprecated, please pass in a Service object\n",
      "  driver = webdriver.Chrome(PATH, desired_capabilities = capabilities)\n"
     ]
    },
    {
     "ename": "WebDriverException",
     "evalue": "Message: unknown error: net::ERR_TUNNEL_CONNECTION_FAILED\n  (Session info: chrome=99.0.4844.82)\nStacktrace:\nBacktrace:\n\tOrdinal0 [0x004769A3+2582947]\n\tOrdinal0 [0x0040A6D1+2139857]\n\tOrdinal0 [0x00303A98+1063576]\n\tOrdinal0 [0x00300551+1049937]\n\tOrdinal0 [0x002F5D9D+1007005]\n\tOrdinal0 [0x002F6A0E+1010190]\n\tOrdinal0 [0x002F5FFE+1007614]\n\tOrdinal0 [0x002F55F0+1005040]\n\tOrdinal0 [0x002F4727+1001255]\n\tOrdinal0 [0x002F49E6+1001958]\n\tOrdinal0 [0x0030518A+1069450]\n\tOrdinal0 [0x003588FD+1411325]\n\tOrdinal0 [0x0034854C+1344844]\n\tOrdinal0 [0x0035834A+1409866]\n\tOrdinal0 [0x00348366+1344358]\n\tOrdinal0 [0x00325176+1200502]\n\tOrdinal0 [0x00326066+1204326]\n\tGetHandleVerifier [0x0061BE02+1675858]\n\tGetHandleVerifier [0x006D036C+2414524]\n\tGetHandleVerifier [0x0050BB01+560977]\n\tGetHandleVerifier [0x0050A8D3+556323]\n\tOrdinal0 [0x0041020E+2163214]\n\tOrdinal0 [0x00415078+2183288]\n\tOrdinal0 [0x004151C0+2183616]\n\tOrdinal0 [0x0041EE1C+2223644]\n\tBaseThreadInitThunk [0x76016739+25]\n\tRtlGetFullPathName_UEx [0x77028E7F+1215]\n\tRtlGetFullPathName_UEx [0x77028E4D+1165]\n",
     "output_type": "error",
     "traceback": [
      "\u001b[1;31m---------------------------------------------------------------------------\u001b[0m",
      "\u001b[1;31mWebDriverException\u001b[0m                        Traceback (most recent call last)",
      "\u001b[1;32m~\\AppData\\Local\\Temp/ipykernel_13936/3851662956.py\u001b[0m in \u001b[0;36m<module>\u001b[1;34m\u001b[0m\n\u001b[0;32m      5\u001b[0m \u001b[0mPATH\u001b[0m \u001b[1;33m=\u001b[0m \u001b[1;34m\"C:\\Program Files (x86)\\chromedriver.exe\"\u001b[0m\u001b[1;33m\u001b[0m\u001b[1;33m\u001b[0m\u001b[0m\n\u001b[0;32m      6\u001b[0m \u001b[0mdriver\u001b[0m \u001b[1;33m=\u001b[0m \u001b[0mwebdriver\u001b[0m\u001b[1;33m.\u001b[0m\u001b[0mChrome\u001b[0m\u001b[1;33m(\u001b[0m\u001b[0mPATH\u001b[0m\u001b[1;33m,\u001b[0m \u001b[0mdesired_capabilities\u001b[0m \u001b[1;33m=\u001b[0m \u001b[0mcapabilities\u001b[0m\u001b[1;33m)\u001b[0m\u001b[1;33m\u001b[0m\u001b[1;33m\u001b[0m\u001b[0m\n\u001b[1;32m----> 7\u001b[1;33m \u001b[0mdriver\u001b[0m\u001b[1;33m.\u001b[0m\u001b[0mget\u001b[0m\u001b[1;33m(\u001b[0m\u001b[0murl\u001b[0m\u001b[1;33m)\u001b[0m\u001b[1;33m\u001b[0m\u001b[1;33m\u001b[0m\u001b[0m\n\u001b[0m\u001b[0;32m      8\u001b[0m \u001b[1;31m#time.sleep(8)\u001b[0m\u001b[1;33m\u001b[0m\u001b[1;33m\u001b[0m\u001b[0m\n",
      "\u001b[1;32m~\\anaconda3\\lib\\site-packages\\selenium\\webdriver\\remote\\webdriver.py\u001b[0m in \u001b[0;36mget\u001b[1;34m(self, url)\u001b[0m\n\u001b[0;32m    435\u001b[0m         \u001b[0mLoads\u001b[0m \u001b[0ma\u001b[0m \u001b[0mweb\u001b[0m \u001b[0mpage\u001b[0m \u001b[1;32min\u001b[0m \u001b[0mthe\u001b[0m \u001b[0mcurrent\u001b[0m \u001b[0mbrowser\u001b[0m \u001b[0msession\u001b[0m\u001b[1;33m.\u001b[0m\u001b[1;33m\u001b[0m\u001b[1;33m\u001b[0m\u001b[0m\n\u001b[0;32m    436\u001b[0m         \"\"\"\n\u001b[1;32m--> 437\u001b[1;33m         \u001b[0mself\u001b[0m\u001b[1;33m.\u001b[0m\u001b[0mexecute\u001b[0m\u001b[1;33m(\u001b[0m\u001b[0mCommand\u001b[0m\u001b[1;33m.\u001b[0m\u001b[0mGET\u001b[0m\u001b[1;33m,\u001b[0m \u001b[1;33m{\u001b[0m\u001b[1;34m'url'\u001b[0m\u001b[1;33m:\u001b[0m \u001b[0murl\u001b[0m\u001b[1;33m}\u001b[0m\u001b[1;33m)\u001b[0m\u001b[1;33m\u001b[0m\u001b[1;33m\u001b[0m\u001b[0m\n\u001b[0m\u001b[0;32m    438\u001b[0m \u001b[1;33m\u001b[0m\u001b[0m\n\u001b[0;32m    439\u001b[0m     \u001b[1;33m@\u001b[0m\u001b[0mproperty\u001b[0m\u001b[1;33m\u001b[0m\u001b[1;33m\u001b[0m\u001b[0m\n",
      "\u001b[1;32m~\\anaconda3\\lib\\site-packages\\selenium\\webdriver\\remote\\webdriver.py\u001b[0m in \u001b[0;36mexecute\u001b[1;34m(self, driver_command, params)\u001b[0m\n\u001b[0;32m    423\u001b[0m         \u001b[0mresponse\u001b[0m \u001b[1;33m=\u001b[0m \u001b[0mself\u001b[0m\u001b[1;33m.\u001b[0m\u001b[0mcommand_executor\u001b[0m\u001b[1;33m.\u001b[0m\u001b[0mexecute\u001b[0m\u001b[1;33m(\u001b[0m\u001b[0mdriver_command\u001b[0m\u001b[1;33m,\u001b[0m \u001b[0mparams\u001b[0m\u001b[1;33m)\u001b[0m\u001b[1;33m\u001b[0m\u001b[1;33m\u001b[0m\u001b[0m\n\u001b[0;32m    424\u001b[0m         \u001b[1;32mif\u001b[0m \u001b[0mresponse\u001b[0m\u001b[1;33m:\u001b[0m\u001b[1;33m\u001b[0m\u001b[1;33m\u001b[0m\u001b[0m\n\u001b[1;32m--> 425\u001b[1;33m             \u001b[0mself\u001b[0m\u001b[1;33m.\u001b[0m\u001b[0merror_handler\u001b[0m\u001b[1;33m.\u001b[0m\u001b[0mcheck_response\u001b[0m\u001b[1;33m(\u001b[0m\u001b[0mresponse\u001b[0m\u001b[1;33m)\u001b[0m\u001b[1;33m\u001b[0m\u001b[1;33m\u001b[0m\u001b[0m\n\u001b[0m\u001b[0;32m    426\u001b[0m             response['value'] = self._unwrap_value(\n\u001b[0;32m    427\u001b[0m                 response.get('value', None))\n",
      "\u001b[1;32m~\\anaconda3\\lib\\site-packages\\selenium\\webdriver\\remote\\errorhandler.py\u001b[0m in \u001b[0;36mcheck_response\u001b[1;34m(self, response)\u001b[0m\n\u001b[0;32m    245\u001b[0m                 \u001b[0malert_text\u001b[0m \u001b[1;33m=\u001b[0m \u001b[0mvalue\u001b[0m\u001b[1;33m[\u001b[0m\u001b[1;34m'alert'\u001b[0m\u001b[1;33m]\u001b[0m\u001b[1;33m.\u001b[0m\u001b[0mget\u001b[0m\u001b[1;33m(\u001b[0m\u001b[1;34m'text'\u001b[0m\u001b[1;33m)\u001b[0m\u001b[1;33m\u001b[0m\u001b[1;33m\u001b[0m\u001b[0m\n\u001b[0;32m    246\u001b[0m             \u001b[1;32mraise\u001b[0m \u001b[0mexception_class\u001b[0m\u001b[1;33m(\u001b[0m\u001b[0mmessage\u001b[0m\u001b[1;33m,\u001b[0m \u001b[0mscreen\u001b[0m\u001b[1;33m,\u001b[0m \u001b[0mstacktrace\u001b[0m\u001b[1;33m,\u001b[0m \u001b[0malert_text\u001b[0m\u001b[1;33m)\u001b[0m  \u001b[1;31m# type: ignore[call-arg]  # mypy is not smart enough here\u001b[0m\u001b[1;33m\u001b[0m\u001b[1;33m\u001b[0m\u001b[0m\n\u001b[1;32m--> 247\u001b[1;33m         \u001b[1;32mraise\u001b[0m \u001b[0mexception_class\u001b[0m\u001b[1;33m(\u001b[0m\u001b[0mmessage\u001b[0m\u001b[1;33m,\u001b[0m \u001b[0mscreen\u001b[0m\u001b[1;33m,\u001b[0m \u001b[0mstacktrace\u001b[0m\u001b[1;33m)\u001b[0m\u001b[1;33m\u001b[0m\u001b[1;33m\u001b[0m\u001b[0m\n\u001b[0m\u001b[0;32m    248\u001b[0m \u001b[1;33m\u001b[0m\u001b[0m\n\u001b[0;32m    249\u001b[0m     \u001b[1;32mdef\u001b[0m \u001b[0m_value_or_default\u001b[0m\u001b[1;33m(\u001b[0m\u001b[0mself\u001b[0m\u001b[1;33m,\u001b[0m \u001b[0mobj\u001b[0m\u001b[1;33m:\u001b[0m \u001b[0mMapping\u001b[0m\u001b[1;33m[\u001b[0m\u001b[0m_KT\u001b[0m\u001b[1;33m,\u001b[0m \u001b[0m_VT\u001b[0m\u001b[1;33m]\u001b[0m\u001b[1;33m,\u001b[0m \u001b[0mkey\u001b[0m\u001b[1;33m:\u001b[0m \u001b[0m_KT\u001b[0m\u001b[1;33m,\u001b[0m \u001b[0mdefault\u001b[0m\u001b[1;33m:\u001b[0m \u001b[0m_VT\u001b[0m\u001b[1;33m)\u001b[0m \u001b[1;33m->\u001b[0m \u001b[0m_VT\u001b[0m\u001b[1;33m:\u001b[0m\u001b[1;33m\u001b[0m\u001b[1;33m\u001b[0m\u001b[0m\n",
      "\u001b[1;31mWebDriverException\u001b[0m: Message: unknown error: net::ERR_TUNNEL_CONNECTION_FAILED\n  (Session info: chrome=99.0.4844.82)\nStacktrace:\nBacktrace:\n\tOrdinal0 [0x004769A3+2582947]\n\tOrdinal0 [0x0040A6D1+2139857]\n\tOrdinal0 [0x00303A98+1063576]\n\tOrdinal0 [0x00300551+1049937]\n\tOrdinal0 [0x002F5D9D+1007005]\n\tOrdinal0 [0x002F6A0E+1010190]\n\tOrdinal0 [0x002F5FFE+1007614]\n\tOrdinal0 [0x002F55F0+1005040]\n\tOrdinal0 [0x002F4727+1001255]\n\tOrdinal0 [0x002F49E6+1001958]\n\tOrdinal0 [0x0030518A+1069450]\n\tOrdinal0 [0x003588FD+1411325]\n\tOrdinal0 [0x0034854C+1344844]\n\tOrdinal0 [0x0035834A+1409866]\n\tOrdinal0 [0x00348366+1344358]\n\tOrdinal0 [0x00325176+1200502]\n\tOrdinal0 [0x00326066+1204326]\n\tGetHandleVerifier [0x0061BE02+1675858]\n\tGetHandleVerifier [0x006D036C+2414524]\n\tGetHandleVerifier [0x0050BB01+560977]\n\tGetHandleVerifier [0x0050A8D3+556323]\n\tOrdinal0 [0x0041020E+2163214]\n\tOrdinal0 [0x00415078+2183288]\n\tOrdinal0 [0x004151C0+2183616]\n\tOrdinal0 [0x0041EE1C+2223644]\n\tBaseThreadInitThunk [0x76016739+25]\n\tRtlGetFullPathName_UEx [0x77028E7F+1215]\n\tRtlGetFullPathName_UEx [0x77028E4D+1165]\n"
     ]
    }
   ],
   "source": [
    "counter = counter + 1\n",
    "url = df.iat[counter,0]\n",
    "print(counter)\n",
    "print(url)\n",
    "PATH = \"C:\\Program Files (x86)\\chromedriver.exe\"\n",
    "driver = webdriver.Chrome(PATH, desired_capabilities = capabilities)\n",
    "driver.get(url)\n",
    "#time.sleep(8)"
   ]
  },
  {
   "cell_type": "code",
   "execution_count": 53,
   "id": "86b64643",
   "metadata": {},
   "outputs": [
    {
     "name": "stdout",
     "output_type": "stream",
     "text": [
      "['03/25/2022, 09:23:52', 'https://www.realtor.ca/real-estate/24103897/4320-brooklyn-street-somerset-somerset', '$299,900', '4320 Brooklyn Street', 'Somerset, Nova Scotia B0P1E0', 'B0P1E0', 'MLS® Number: 202203490', '2 + 0', 2, '2', 'Single Family', 'House', '2', 'Somerset', 'Freehold', 'under 1/2 acre', '1873', 'Gravel', '20 days', '', '3650 sqft', '', 'Stone', 'Detached', '', 'Crawl space', 'Building', 'Bedrooms', 'Above Grade', '2', 'Bathrooms', 'Total', '2', 'Partial', '1', 'Interior Features', 'Flooring', 'Hardwood, Wood, Vinyl', 'Basement Type', 'Crawl space', 'Building Features', 'Features', 'Level', 'Foundation Type', 'Stone', 'Style', 'Detached', 'Total Finished Area', '3650 sqft', 'Utilities', 'Utility Sewer', 'Septic System', 'Water', 'Drilled Well', 'Exterior Features', 'Exterior Finish', 'Steel, Vinyl', 'Neighbourhood Features', 'Community Features', 'Recreational Facilities, School Bus', 'Amenities Nearby', 'Golf Course, Park, Playground, Public Transit, Place of Worship', 'Parking', 'Parking Type', 'Gravel']\n"
     ]
    }
   ],
   "source": [
    "now = datetime.now() # current date and time\n",
    "scrapeDatetime = now.strftime(\"%m/%d/%Y, %H:%M:%S\")\n",
    "#print (scrapeDatetime)\n",
    "listingDetailsTopCon = driver.find_element(by=By.ID, value=\"listingDetailsTopCon\")\n",
    "ls = listingDetailsTopCon.text.split('\\n')\n",
    "if ls[0][0] == '$':\n",
    "    i=0\n",
    "else:\n",
    "    i=1\n",
    "price = ls[i]\n",
    "addressline1 = ls[i+2]\n",
    "#i=i+1\n",
    "addressline2 = ls[i+3]\n",
    "po = addressline2[-6:]\n",
    "mls = ls[i+4]\n",
    "bedrooms = ls[i+5]\n",
    "totalbedrooms = int(ls[i+5][0])+ int(ls[i+5][-1:])\n",
    "bathrooms = ls[i+7]\n",
    "#print(ls)\n",
    "obj = [scrapeDatetime, url, price, addressline1, addressline2, po, mls, bedrooms, totalbedrooms, bathrooms]\n",
    "#print(obj)\n",
    "PropertySummary = driver.find_element(by=By.ID, value=\"PropertySummary\")\n",
    "ps = PropertySummary.text.split('\\n')\n",
    "#print(ps)\n",
    "propertyType = ''\n",
    "BuildingType = ''\n",
    "storeys = ''\n",
    "communityName = ''\n",
    "title = ''\n",
    "landSize = ''\n",
    "Builtin = ''\n",
    "parkingType = ''\n",
    "publishTime = ''\n",
    "for item in ps:\n",
    "    if item == 'Property Type':\n",
    "        k = ps.index(item)\n",
    "        propertyType = ps[k+1]\n",
    "    if item == 'Building Type':\n",
    "        k = ps.index(item)\n",
    "        BuildingType = ps[k+1]\n",
    "    if item == 'Storeys':\n",
    "        k = ps.index(item)\n",
    "        storeys = ps[k+1]\n",
    "    if item == 'Community Name':\n",
    "        k = ps.index(item)\n",
    "        communityName  = ps[k+1]\n",
    "    if item == 'Title':\n",
    "        k = ps.index(item)\n",
    "        title = ps[k+1]\n",
    "    if item == 'Land Size':\n",
    "        k = ps.index(item)\n",
    "        landSize = ps[k+1]\n",
    "    if item == 'Built in':\n",
    "        k = ps.index(item)\n",
    "        Builtin = ps[k+1]\n",
    "    if item == 'Parking Type':\n",
    "        k = ps.index(item)\n",
    "        parkingType = ps[k+1]\n",
    "    if item == 'Time on REALTOR.ca':\n",
    "        k = ps.index(item)\n",
    "        publishTime = ps[k+1]\n",
    "obj.extend([propertyType, BuildingType, storeys, communityName, title, landSize, Builtin, parkingType, publishTime])\n",
    "#print(obj)\n",
    "try:\n",
    "    PriceHistory = driver.find_element(by=By.ID, value=\"historyDetailSection\")\n",
    "    ph = PriceHistory.text.split('\\n')\n",
    "    priceHistory = ph[2]\n",
    "except:\n",
    "    ph[2] = ''\n",
    "#print(ph[2])\n",
    "obj.append(ph[2])\n",
    "listingDetailsBuildingCon = driver.find_element(by=By.ID, value=\"listingDetailsBuildingCon\")\n",
    "lsd = listingDetailsBuildingCon.text.split('\\n')\n",
    "totalFinishedArea = ''\n",
    "appliancesIncluded = ''\n",
    "foundationType = ''\n",
    "style = ''\n",
    "architectureStyle = ''\n",
    "basementType = ''\n",
    "\n",
    "for item in lsd:\n",
    "    if item == 'Total Finished Area':\n",
    "        k = lsd.index(item)\n",
    "        totalFinishedArea = lsd[k+1]\n",
    "    if item == 'Appliances Included':\n",
    "        k = lsd.index(item)\n",
    "        appliancesIncluded = lsd[k+1]\n",
    "    if item == 'Foundation Type':\n",
    "        k = lsd.index(item)\n",
    "        foundationType = lsd[k+1]\n",
    "    if item == 'Style':\n",
    "        k = lsd.index(item)\n",
    "        style = lsd[k+1]\n",
    "    if item == 'Architecture Style':\n",
    "        k = lsd.index(item)\n",
    "        architectureStyle = lsd[k+1]\n",
    "    if item == 'Basement Type':\n",
    "        k = lsd.index(item)\n",
    "        basementType = lsd[k+1]\n",
    "obj.extend([totalFinishedArea, appliancesIncluded, foundationType, style, architectureStyle, basementType])\n",
    "obj.extend(lsd)\n",
    "# writing in the CSV file\n",
    "csv_name = \"Realtor_RealEstatePage_JP2.csv\"\n",
    "with open(csv_name, 'a', newline='') as f_object:\n",
    "    writer_object = writer(f_object)\n",
    "    writer_object.writerow(obj)\n",
    "    f_object.close()\n",
    "print(obj)"
   ]
  },
  {
   "cell_type": "code",
   "execution_count": 58,
   "id": "8c83b4a1",
   "metadata": {},
   "outputs": [],
   "source": [
    "driver.quit()"
   ]
  }
 ],
 "metadata": {
  "kernelspec": {
   "display_name": "Python 3 (ipykernel)",
   "language": "python",
   "name": "python3"
  },
  "language_info": {
   "codemirror_mode": {
    "name": "ipython",
    "version": 3
   },
   "file_extension": ".py",
   "mimetype": "text/x-python",
   "name": "python",
   "nbconvert_exporter": "python",
   "pygments_lexer": "ipython3",
   "version": "3.9.7"
  }
 },
 "nbformat": 4,
 "nbformat_minor": 5
}
